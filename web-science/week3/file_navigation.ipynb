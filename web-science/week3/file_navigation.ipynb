{
 "cells": [
  {
   "cell_type": "code",
   "execution_count": 10,
   "metadata": {},
   "outputs": [],
   "source": [
    "import glob\n",
    "import json"
   ]
  },
  {
   "cell_type": "code",
   "execution_count": 20,
   "metadata": {},
   "outputs": [],
   "source": [
    "def get_files(folder):\n",
    "    directory = \"data/%s/\" % folder\n",
    "    return glob.glob(directory + \"*.json\")\n",
    "\n",
    "def load_dict(file):\n",
    "    file = open(file.replace(\"\\\\\", \"/\"))\n",
    "    d = json.load(file)\n",
    "    file.close()\n",
    "    return d"
   ]
  },
  {
   "cell_type": "code",
   "execution_count": 55,
   "metadata": {},
   "outputs": [],
   "source": [
    "folder = \"youtube_top100\"\n",
    "files = get_files(folder)\n",
    "d = load_dict(files[1])"
   ]
  },
  {
   "cell_type": "code",
   "execution_count": 56,
   "metadata": {},
   "outputs": [
    {
     "data": {
      "text/plain": [
       "dict_keys(['etag', 'snippet', 'statistics', 'kind', 'id'])"
      ]
     },
     "execution_count": 56,
     "metadata": {},
     "output_type": "execute_result"
    }
   ],
   "source": [
    "d[0].keys()"
   ]
  },
  {
   "cell_type": "code",
   "execution_count": 57,
   "metadata": {},
   "outputs": [
    {
     "data": {
      "text/plain": [
       "{'categoryId': '10',\n",
       " 'title': 'Drake - Hotline Bling',\n",
       " 'publishedAt': '2015-10-26T22:00:03.000Z',\n",
       " 'description': 'Hotline Bling (Official Video)\\nAvailable for download here! http://republicrec.co/DrakeHotlineBling \\n\\nShare/Stream “Hotline Bling” on Spotify: https://open.spotify.com/track/6nmz4imkDcmtwMjocAzFSx\\n\\nDirected by Director X\\nProduced by Evan Landry\\nEdited by Laura McMillan\\nProduction Company: Creative Soul\\n\\nMusic video by Drake performing Hotline Bling.  © 2015 Cash Money Records Inc.\\n\\nhttp://vevo.ly/R0NNDX',\n",
       " 'thumbnails': {'medium': {'width': 320,\n",
       "   'url': 'https://i.ytimg.com/vi/uxpDa-c-4Mc/mqdefault.jpg',\n",
       "   'height': 180},\n",
       "  'high': {'width': 480,\n",
       "   'url': 'https://i.ytimg.com/vi/uxpDa-c-4Mc/hqdefault.jpg',\n",
       "   'height': 360},\n",
       "  'default': {'width': 120,\n",
       "   'url': 'https://i.ytimg.com/vi/uxpDa-c-4Mc/default.jpg',\n",
       "   'height': 90},\n",
       "  'standard': {'width': 640,\n",
       "   'url': 'https://i.ytimg.com/vi/uxpDa-c-4Mc/sddefault.jpg',\n",
       "   'height': 480},\n",
       "  'maxres': {'width': 1280,\n",
       "   'url': 'https://i.ytimg.com/vi/uxpDa-c-4Mc/maxresdefault.jpg',\n",
       "   'height': 720}},\n",
       " 'tags': ['Drake',\n",
       "  'Hotline',\n",
       "  'Bling',\n",
       "  'Cash',\n",
       "  'Money',\n",
       "  'Records/Young',\n",
       "  'Ent./Universal',\n",
       "  'Rec.',\n",
       "  'Rap'],\n",
       " 'liveBroadcastContent': 'none',\n",
       " 'localized': {'title': 'Drake - Hotline Bling',\n",
       "  'description': 'Hotline Bling (Official Video)\\nAvailable for download here! http://republicrec.co/DrakeHotlineBling \\n\\nShare/Stream “Hotline Bling” on Spotify: https://open.spotify.com/track/6nmz4imkDcmtwMjocAzFSx\\n\\nDirected by Director X\\nProduced by Evan Landry\\nEdited by Laura McMillan\\nProduction Company: Creative Soul\\n\\nMusic video by Drake performing Hotline Bling.  © 2015 Cash Money Records Inc.\\n\\nhttp://vevo.ly/R0NNDX'},\n",
       " 'channelId': 'UCQznUf1SjfDqx65hX3zRDiA',\n",
       " 'channelTitle': 'DrakeVEVO'}"
      ]
     },
     "execution_count": 57,
     "metadata": {},
     "output_type": "execute_result"
    }
   ],
   "source": [
    "d[2]['snippet']"
   ]
  },
  {
   "cell_type": "code",
   "execution_count": 54,
   "metadata": {},
   "outputs": [
    {
     "data": {
      "text/plain": [
       "{'tags': ['Drake',\n",
       "  'Hotline',\n",
       "  'Bling',\n",
       "  'Cash',\n",
       "  'Money',\n",
       "  'Records/Young',\n",
       "  'Ent./Universal',\n",
       "  'Rec.',\n",
       "  'Rap'],\n",
       " 'categoryId': '10',\n",
       " 'publishedAt': '2015-10-26T22:00:03.000Z',\n",
       " 'channelId': 'UCQznUf1SjfDqx65hX3zRDiA',\n",
       " 'channelTitle': 'DrakeVEVO',\n",
       " 'description': 'Hotline Bling (Official Video)\\nAvailable for download here! http://republicrec.co/DrakeHotlineBling \\n\\nShare/Stream “Hotline Bling” on Spotify: https://open.spotify.com/track/6nmz4imkDcmtwMjocAzFSx\\n\\nDirected by Director X\\nProduced by Evan Landry\\nEdited by Laura McMillan\\nProduction Company: Creative Soul\\n\\nMusic video by Drake performing Hotline Bling.  © 2015 Cash Money Records Inc.\\n\\nhttp://vevo.ly/R0NNDX',\n",
       " 'localized': {'title': 'Drake - Hotline Bling',\n",
       "  'description': 'Hotline Bling (Official Video)\\nAvailable for download here! http://republicrec.co/DrakeHotlineBling \\n\\nShare/Stream “Hotline Bling” on Spotify: https://open.spotify.com/track/6nmz4imkDcmtwMjocAzFSx\\n\\nDirected by Director X\\nProduced by Evan Landry\\nEdited by Laura McMillan\\nProduction Company: Creative Soul\\n\\nMusic video by Drake performing Hotline Bling.  © 2015 Cash Money Records Inc.\\n\\nhttp://vevo.ly/R0NNDX'},\n",
       " 'thumbnails': {'default': {'height': 90,\n",
       "   'width': 120,\n",
       "   'url': 'https://i.ytimg.com/vi/uxpDa-c-4Mc/default.jpg'},\n",
       "  'standard': {'height': 480,\n",
       "   'width': 640,\n",
       "   'url': 'https://i.ytimg.com/vi/uxpDa-c-4Mc/sddefault.jpg'},\n",
       "  'high': {'height': 360,\n",
       "   'width': 480,\n",
       "   'url': 'https://i.ytimg.com/vi/uxpDa-c-4Mc/hqdefault.jpg'},\n",
       "  'maxres': {'height': 720,\n",
       "   'width': 1280,\n",
       "   'url': 'https://i.ytimg.com/vi/uxpDa-c-4Mc/maxresdefault.jpg'},\n",
       "  'medium': {'height': 180,\n",
       "   'width': 320,\n",
       "   'url': 'https://i.ytimg.com/vi/uxpDa-c-4Mc/mqdefault.jpg'}},\n",
       " 'liveBroadcastContent': 'none',\n",
       " 'title': 'Drake - Hotline Bling'}"
      ]
     },
     "execution_count": 54,
     "metadata": {},
     "output_type": "execute_result"
    }
   ],
   "source": [
    "d[2]['snippet']"
   ]
  }
 ],
 "metadata": {
  "interpreter": {
   "hash": "473b09b14929ec2d62fd15ed2d86bed0025b0356f60f179d534857bf2aca0ec5"
  },
  "kernelspec": {
   "display_name": "Python 3.7.10 64-bit ('tensor': conda)",
   "language": "python",
   "name": "python3"
  },
  "language_info": {
   "codemirror_mode": {
    "name": "ipython",
    "version": 3
   },
   "file_extension": ".py",
   "mimetype": "text/x-python",
   "name": "python",
   "nbconvert_exporter": "python",
   "pygments_lexer": "ipython3",
   "version": "3.7.10"
  },
  "orig_nbformat": 4
 },
 "nbformat": 4,
 "nbformat_minor": 2
}

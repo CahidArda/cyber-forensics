{
 "cells": [
  {
   "cell_type": "code",
   "execution_count": 2,
   "metadata": {},
   "outputs": [],
   "source": [
    "import numpy as np"
   ]
  },
  {
   "cell_type": "code",
   "execution_count": 3,
   "metadata": {},
   "outputs": [
    {
     "name": "stdout",
     "output_type": "stream",
     "text": [
      "0.2592592592592593\n",
      "0.14285714285714302\n",
      "-0.5555555555555538\n",
      "1.4000000000000012\n",
      "0.8412698412698414\n",
      "0.7358490566037736\n",
      "0.6980056980056981\n",
      "0.6816326530612246\n",
      "0.6739853626081171\n",
      "0.6702862783810464\n",
      "0.6684666993945345\n",
      "0.6675642594859241\n",
      "0.6671148596341117\n",
      "0.6668906125939047\n",
      "0.6667786020290829\n",
      "0.6667226249523084\n",
      "0.6666946434611873\n",
      "0.6666806544769259\n",
      "0.6666736604250553\n",
      "0.666670163509177\n",
      "0.666668415078751\n",
      "0.6666675408704161\n"
     ]
    }
   ],
   "source": [
    "z_last = 1\n",
    "z = 0.3\n",
    "p = 2/9\n",
    "\n",
    "while abs(z_last-z)>1e-6:\n",
    "\tz_last = z\n",
    "\tz = 1-p/z\n",
    "\n",
    "\tprint(z)"
   ]
  },
  {
   "cell_type": "code",
   "execution_count": 4,
   "metadata": {},
   "outputs": [
    {
     "data": {
      "text/plain": [
       "array([0.5, 0.5])"
      ]
     },
     "execution_count": 4,
     "metadata": {},
     "output_type": "execute_result"
    }
   ],
   "source": [
    "p = 0.25\n",
    "np.roots([-1, 1, -p])"
   ]
  },
  {
   "cell_type": "code",
   "execution_count": 5,
   "metadata": {},
   "outputs": [
    {
     "data": {
      "text/plain": [
       "0.2222222222222222"
      ]
     },
     "execution_count": 5,
     "metadata": {},
     "output_type": "execute_result"
    }
   ],
   "source": [
    "2/9"
   ]
  },
  {
   "cell_type": "code",
   "execution_count": 8,
   "metadata": {},
   "outputs": [
    {
     "data": {
      "text/plain": [
       "array([0.97187577, 0.02812423])"
      ]
     },
     "execution_count": 8,
     "metadata": {},
     "output_type": "execute_result"
    }
   ],
   "source": [
    "p = 0.027333256713294153\n",
    "np.roots([-1, 1, -p])"
   ]
  },
  {
   "cell_type": "code",
   "execution_count": null,
   "metadata": {},
   "outputs": [],
   "source": []
  },
  {
   "cell_type": "code",
   "execution_count": 7,
   "metadata": {},
   "outputs": [
    {
     "name": "stdout",
     "output_type": "stream",
     "text": [
      "0 [1. 0.]\n",
      "1 [0.872678 0.127322]\n",
      "2 [0.66666667 0.33333333]\n",
      "3 [0.5+0.28867513j 0.5-0.28867513j]\n",
      "4 [0.5+0.44095855j 0.5-0.44095855j]\n",
      "5 [0.5+0.5527708j 0.5-0.5527708j]\n",
      "6 [0.5+0.64549722j 0.5-0.64549722j]\n",
      "7 [0.5+0.72648316j 0.5-0.72648316j]\n",
      "8 [0.5+0.79930525j 0.5-0.79930525j]\n"
     ]
    }
   ],
   "source": [
    "for i in range(9):\n",
    "    p = i/9\n",
    "    print(i, np.roots([-1, 1, -p]))"
   ]
  },
  {
   "cell_type": "markdown",
   "metadata": {},
   "source": [
    "Look at the graphical interpretation:\n",
    "* Smaller than smaller root is where noone buys the product because no one believes it will be bought by other people\n",
    "* Higher root is where we converge otherwise"
   ]
  },
  {
   "cell_type": "markdown",
   "metadata": {},
   "source": []
  }
 ],
 "metadata": {
  "interpreter": {
   "hash": "473b09b14929ec2d62fd15ed2d86bed0025b0356f60f179d534857bf2aca0ec5"
  },
  "kernelspec": {
   "display_name": "Python 3.7.10 64-bit ('tensor': conda)",
   "language": "python",
   "name": "python3"
  },
  "language_info": {
   "codemirror_mode": {
    "name": "ipython",
    "version": 3
   },
   "file_extension": ".py",
   "mimetype": "text/x-python",
   "name": "python",
   "nbconvert_exporter": "python",
   "pygments_lexer": "ipython3",
   "version": "3.7.10"
  },
  "orig_nbformat": 4
 },
 "nbformat": 4,
 "nbformat_minor": 2
}

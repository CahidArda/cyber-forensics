{
 "cells": [
  {
   "cell_type": "code",
   "execution_count": 1,
   "metadata": {},
   "outputs": [],
   "source": [
    "import pandas as pd\n",
    "import matplotlib.pyplot as plt"
   ]
  },
  {
   "cell_type": "markdown",
   "metadata": {},
   "source": [
    "# Introduction to Digital Forensics - Assignment 2\n",
    "\n",
    "Contributors (Project group 2):\n",
    "- Carlos de Bourbon de Parme\n",
    "- Vera Schockemöhle\n",
    "- Floor Schutrups\n",
    "- Jelle Hulter\n",
    "- Nora Yigit\n",
    "- Arda Öz"
   ]
  },
  {
   "cell_type": "markdown",
   "metadata": {},
   "source": [
    "# 1. Introduction/Motivation\n",
    "\n",
    "During this assignment, we will take a deeper look into the packet traffic of a Denial of Service attack. We would like to know how big such a attack is, how many packets would be sent in such a attack and how many different attacking systems are used in the attack."
   ]
  },
  {
   "cell_type": "markdown",
   "metadata": {},
   "source": [
    "# 2. Methodology\n",
    "\n",
    "Answers of the questions are organized such that each subsection of the methodology section is answer to a question with the same number.\n",
    "\n",
    "Before we start our investigation, we need to process the `.pcap` we were provided. To do this, we used `tshark`:\n",
    "\n",
    "```bash\n",
    "# This operation is extremely timing consuming. At least you only need to do it at ONCE!\n",
    "!tshark -n -r 'input.pcap' -E separator=\\;  -E header=y -T fields \\\n",
    "-e frame.time_epoch \\\n",
    "-e ip.proto \\\n",
    "-e ip.src \\\n",
    "-e ip.dst \\\n",
    "-e udp.srcport \\\n",
    "-e udp.dstport \\\n",
    "-e tcp.srcport \\\n",
    "-e tcp.dstport \\\n",
    "-e frame.len \\\n",
    "-e dns.qry.type \\\n",
    "-e dns.qry.name \\\n",
    "-e dns.resp.name \\\n",
    "-e eth.src_resolved > output.csv\n",
    "```"
   ]
  },
  {
   "cell_type": "markdown",
   "metadata": {},
   "source": [
    "We begin our investigation by exporting the wireshark trace as a csv and importing it using pandas:"
   ]
  },
  {
   "cell_type": "code",
   "execution_count": 2,
   "metadata": {},
   "outputs": [
    {
     "data": {
      "text/html": [
       "<div>\n",
       "<style scoped>\n",
       "    .dataframe tbody tr th:only-of-type {\n",
       "        vertical-align: middle;\n",
       "    }\n",
       "\n",
       "    .dataframe tbody tr th {\n",
       "        vertical-align: top;\n",
       "    }\n",
       "\n",
       "    .dataframe thead th {\n",
       "        text-align: right;\n",
       "    }\n",
       "</style>\n",
       "<table border=\"1\" class=\"dataframe\">\n",
       "  <thead>\n",
       "    <tr style=\"text-align: right;\">\n",
       "      <th></th>\n",
       "      <th>frame.time_epoch</th>\n",
       "      <th>ip.proto</th>\n",
       "      <th>ip.src</th>\n",
       "      <th>ip.dst</th>\n",
       "      <th>udp.srcport</th>\n",
       "      <th>udp.dstport</th>\n",
       "      <th>tcp.srcport</th>\n",
       "      <th>tcp.dstport</th>\n",
       "      <th>frame.len</th>\n",
       "      <th>dns.qry.type</th>\n",
       "      <th>dns.qry.name</th>\n",
       "      <th>dns.resp.name</th>\n",
       "      <th>eth.src_resolved</th>\n",
       "    </tr>\n",
       "  </thead>\n",
       "  <tbody>\n",
       "    <tr>\n",
       "      <th>0</th>\n",
       "      <td>1.419263e+09</td>\n",
       "      <td>1</td>\n",
       "      <td>162.8.125.17</td>\n",
       "      <td>172.31.28.132</td>\n",
       "      <td>NaN</td>\n",
       "      <td>NaN</td>\n",
       "      <td>NaN</td>\n",
       "      <td>NaN</td>\n",
       "      <td>62</td>\n",
       "      <td>NaN</td>\n",
       "      <td>NaN</td>\n",
       "      <td>NaN</td>\n",
       "      <td>06:90:f4:0e:e0:ff</td>\n",
       "    </tr>\n",
       "    <tr>\n",
       "      <th>1</th>\n",
       "      <td>1.419263e+09</td>\n",
       "      <td>1</td>\n",
       "      <td>172.31.28.132</td>\n",
       "      <td>162.8.125.17</td>\n",
       "      <td>NaN</td>\n",
       "      <td>NaN</td>\n",
       "      <td>NaN</td>\n",
       "      <td>NaN</td>\n",
       "      <td>62</td>\n",
       "      <td>NaN</td>\n",
       "      <td>NaN</td>\n",
       "      <td>NaN</td>\n",
       "      <td>06:9a:6c:66:90:33</td>\n",
       "    </tr>\n",
       "    <tr>\n",
       "      <th>2</th>\n",
       "      <td>1.419263e+09</td>\n",
       "      <td>17</td>\n",
       "      <td>172.31.28.132</td>\n",
       "      <td>172.31.0.2</td>\n",
       "      <td>51139.0</td>\n",
       "      <td>53.0</td>\n",
       "      <td>NaN</td>\n",
       "      <td>NaN</td>\n",
       "      <td>103</td>\n",
       "      <td>1.0</td>\n",
       "      <td>ip-172-31-28-132.us-west-2.compute.internal</td>\n",
       "      <td>NaN</td>\n",
       "      <td>06:9a:6c:66:90:33</td>\n",
       "    </tr>\n",
       "    <tr>\n",
       "      <th>3</th>\n",
       "      <td>1.419263e+09</td>\n",
       "      <td>17</td>\n",
       "      <td>172.31.28.132</td>\n",
       "      <td>172.31.0.2</td>\n",
       "      <td>51139.0</td>\n",
       "      <td>53.0</td>\n",
       "      <td>NaN</td>\n",
       "      <td>NaN</td>\n",
       "      <td>103</td>\n",
       "      <td>28.0</td>\n",
       "      <td>ip-172-31-28-132.us-west-2.compute.internal</td>\n",
       "      <td>NaN</td>\n",
       "      <td>06:9a:6c:66:90:33</td>\n",
       "    </tr>\n",
       "    <tr>\n",
       "      <th>4</th>\n",
       "      <td>1.419263e+09</td>\n",
       "      <td>17</td>\n",
       "      <td>172.31.0.2</td>\n",
       "      <td>172.31.28.132</td>\n",
       "      <td>53.0</td>\n",
       "      <td>51139.0</td>\n",
       "      <td>NaN</td>\n",
       "      <td>NaN</td>\n",
       "      <td>164</td>\n",
       "      <td>28.0</td>\n",
       "      <td>ip-172-31-28-132.us-west-2.compute.internal</td>\n",
       "      <td>us-west-2.compute.internal</td>\n",
       "      <td>06:90:f4:0e:e0:ff</td>\n",
       "    </tr>\n",
       "    <tr>\n",
       "      <th>...</th>\n",
       "      <td>...</td>\n",
       "      <td>...</td>\n",
       "      <td>...</td>\n",
       "      <td>...</td>\n",
       "      <td>...</td>\n",
       "      <td>...</td>\n",
       "      <td>...</td>\n",
       "      <td>...</td>\n",
       "      <td>...</td>\n",
       "      <td>...</td>\n",
       "      <td>...</td>\n",
       "      <td>...</td>\n",
       "      <td>...</td>\n",
       "    </tr>\n",
       "    <tr>\n",
       "      <th>122228</th>\n",
       "      <td>1.419263e+09</td>\n",
       "      <td>17</td>\n",
       "      <td>122.154.73.42</td>\n",
       "      <td>172.31.28.132</td>\n",
       "      <td>53.0</td>\n",
       "      <td>80.0</td>\n",
       "      <td>NaN</td>\n",
       "      <td>NaN</td>\n",
       "      <td>3053</td>\n",
       "      <td>255.0</td>\n",
       "      <td>nlhosting.nl</td>\n",
       "      <td>nlhosting.nl,nlhosting.nl,nlhosting.nl,nlhosti...</td>\n",
       "      <td>06:90:f4:0e:e0:ff</td>\n",
       "    </tr>\n",
       "    <tr>\n",
       "      <th>122229</th>\n",
       "      <td>1.419263e+09</td>\n",
       "      <td>17</td>\n",
       "      <td>121.32.89.198</td>\n",
       "      <td>172.31.28.132</td>\n",
       "      <td>53.0</td>\n",
       "      <td>80.0</td>\n",
       "      <td>NaN</td>\n",
       "      <td>NaN</td>\n",
       "      <td>2496</td>\n",
       "      <td>255.0</td>\n",
       "      <td>sandia.gov</td>\n",
       "      <td>sandia.gov,sandia.gov,sandia.gov,sandia.gov,sa...</td>\n",
       "      <td>06:90:f4:0e:e0:ff</td>\n",
       "    </tr>\n",
       "    <tr>\n",
       "      <th>122230</th>\n",
       "      <td>1.419263e+09</td>\n",
       "      <td>17</td>\n",
       "      <td>89.228.8.86</td>\n",
       "      <td>172.31.28.132</td>\n",
       "      <td>53.0</td>\n",
       "      <td>80.0</td>\n",
       "      <td>NaN</td>\n",
       "      <td>NaN</td>\n",
       "      <td>225</td>\n",
       "      <td>255.0</td>\n",
       "      <td>ietf.org</td>\n",
       "      <td>ietf.org,ietf.org,ietf.org,ietf.org,ietf.org,i...</td>\n",
       "      <td>06:90:f4:0e:e0:ff</td>\n",
       "    </tr>\n",
       "    <tr>\n",
       "      <th>122231</th>\n",
       "      <td>1.419263e+09</td>\n",
       "      <td>17</td>\n",
       "      <td>113.161.106.4</td>\n",
       "      <td>172.31.28.132</td>\n",
       "      <td>53.0</td>\n",
       "      <td>80.0</td>\n",
       "      <td>NaN</td>\n",
       "      <td>NaN</td>\n",
       "      <td>638</td>\n",
       "      <td>255.0</td>\n",
       "      <td>verisign.com</td>\n",
       "      <td>verisign.com,verisign.com,verisign.com</td>\n",
       "      <td>06:90:f4:0e:e0:ff</td>\n",
       "    </tr>\n",
       "    <tr>\n",
       "      <th>122232</th>\n",
       "      <td>1.419263e+09</td>\n",
       "      <td>17</td>\n",
       "      <td>178.21.237.130</td>\n",
       "      <td>172.31.28.132</td>\n",
       "      <td>53.0</td>\n",
       "      <td>80.0</td>\n",
       "      <td>NaN</td>\n",
       "      <td>NaN</td>\n",
       "      <td>532</td>\n",
       "      <td>255.0</td>\n",
       "      <td>isc.org</td>\n",
       "      <td>isc.org,isc.org,isc.org,isc.org,isc.org,isc.or...</td>\n",
       "      <td>06:90:f4:0e:e0:ff</td>\n",
       "    </tr>\n",
       "  </tbody>\n",
       "</table>\n",
       "<p>122233 rows × 13 columns</p>\n",
       "</div>"
      ],
      "text/plain": [
       "        frame.time_epoch ip.proto          ip.src         ip.dst  udp.srcport  \\\n",
       "0           1.419263e+09        1    162.8.125.17  172.31.28.132          NaN   \n",
       "1           1.419263e+09        1   172.31.28.132   162.8.125.17          NaN   \n",
       "2           1.419263e+09       17   172.31.28.132     172.31.0.2      51139.0   \n",
       "3           1.419263e+09       17   172.31.28.132     172.31.0.2      51139.0   \n",
       "4           1.419263e+09       17      172.31.0.2  172.31.28.132         53.0   \n",
       "...                  ...      ...             ...            ...          ...   \n",
       "122228      1.419263e+09       17   122.154.73.42  172.31.28.132         53.0   \n",
       "122229      1.419263e+09       17   121.32.89.198  172.31.28.132         53.0   \n",
       "122230      1.419263e+09       17     89.228.8.86  172.31.28.132         53.0   \n",
       "122231      1.419263e+09       17   113.161.106.4  172.31.28.132         53.0   \n",
       "122232      1.419263e+09       17  178.21.237.130  172.31.28.132         53.0   \n",
       "\n",
       "        udp.dstport  tcp.srcport  tcp.dstport  frame.len  dns.qry.type  \\\n",
       "0               NaN          NaN          NaN         62           NaN   \n",
       "1               NaN          NaN          NaN         62           NaN   \n",
       "2              53.0          NaN          NaN        103           1.0   \n",
       "3              53.0          NaN          NaN        103          28.0   \n",
       "4           51139.0          NaN          NaN        164          28.0   \n",
       "...             ...          ...          ...        ...           ...   \n",
       "122228         80.0          NaN          NaN       3053         255.0   \n",
       "122229         80.0          NaN          NaN       2496         255.0   \n",
       "122230         80.0          NaN          NaN        225         255.0   \n",
       "122231         80.0          NaN          NaN        638         255.0   \n",
       "122232         80.0          NaN          NaN        532         255.0   \n",
       "\n",
       "                                       dns.qry.name  \\\n",
       "0                                               NaN   \n",
       "1                                               NaN   \n",
       "2       ip-172-31-28-132.us-west-2.compute.internal   \n",
       "3       ip-172-31-28-132.us-west-2.compute.internal   \n",
       "4       ip-172-31-28-132.us-west-2.compute.internal   \n",
       "...                                             ...   \n",
       "122228                                 nlhosting.nl   \n",
       "122229                                   sandia.gov   \n",
       "122230                                     ietf.org   \n",
       "122231                                 verisign.com   \n",
       "122232                                      isc.org   \n",
       "\n",
       "                                            dns.resp.name   eth.src_resolved  \n",
       "0                                                     NaN  06:90:f4:0e:e0:ff  \n",
       "1                                                     NaN  06:9a:6c:66:90:33  \n",
       "2                                                     NaN  06:9a:6c:66:90:33  \n",
       "3                                                     NaN  06:9a:6c:66:90:33  \n",
       "4                              us-west-2.compute.internal  06:90:f4:0e:e0:ff  \n",
       "...                                                   ...                ...  \n",
       "122228  nlhosting.nl,nlhosting.nl,nlhosting.nl,nlhosti...  06:90:f4:0e:e0:ff  \n",
       "122229  sandia.gov,sandia.gov,sandia.gov,sandia.gov,sa...  06:90:f4:0e:e0:ff  \n",
       "122230  ietf.org,ietf.org,ietf.org,ietf.org,ietf.org,i...  06:90:f4:0e:e0:ff  \n",
       "122231             verisign.com,verisign.com,verisign.com  06:90:f4:0e:e0:ff  \n",
       "122232  isc.org,isc.org,isc.org,isc.org,isc.org,isc.or...  06:90:f4:0e:e0:ff  \n",
       "\n",
       "[122233 rows x 13 columns]"
      ]
     },
     "execution_count": 2,
     "metadata": {},
     "output_type": "execute_result"
    }
   ],
   "source": [
    "df = pd.read_csv(\"trace-4.csv\", delimiter=';')\n",
    "df"
   ]
  },
  {
   "cell_type": "markdown",
   "metadata": {},
   "source": [
    "Next, we wanted to process the `frame.time_epoch` column by resetting the initial time to 0:"
   ]
  },
  {
   "cell_type": "code",
   "execution_count": 3,
   "metadata": {},
   "outputs": [
    {
     "data": {
      "text/html": [
       "<div>\n",
       "<style scoped>\n",
       "    .dataframe tbody tr th:only-of-type {\n",
       "        vertical-align: middle;\n",
       "    }\n",
       "\n",
       "    .dataframe tbody tr th {\n",
       "        vertical-align: top;\n",
       "    }\n",
       "\n",
       "    .dataframe thead th {\n",
       "        text-align: right;\n",
       "    }\n",
       "</style>\n",
       "<table border=\"1\" class=\"dataframe\">\n",
       "  <thead>\n",
       "    <tr style=\"text-align: right;\">\n",
       "      <th></th>\n",
       "      <th>frame.time_epoch</th>\n",
       "      <th>ip.proto</th>\n",
       "      <th>ip.src</th>\n",
       "      <th>ip.dst</th>\n",
       "      <th>udp.srcport</th>\n",
       "      <th>udp.dstport</th>\n",
       "      <th>tcp.srcport</th>\n",
       "      <th>tcp.dstport</th>\n",
       "      <th>frame.len</th>\n",
       "      <th>dns.qry.type</th>\n",
       "      <th>dns.qry.name</th>\n",
       "      <th>dns.resp.name</th>\n",
       "      <th>eth.src_resolved</th>\n",
       "    </tr>\n",
       "  </thead>\n",
       "  <tbody>\n",
       "    <tr>\n",
       "      <th>0</th>\n",
       "      <td>0.000000</td>\n",
       "      <td>1</td>\n",
       "      <td>162.8.125.17</td>\n",
       "      <td>172.31.28.132</td>\n",
       "      <td>NaN</td>\n",
       "      <td>NaN</td>\n",
       "      <td>NaN</td>\n",
       "      <td>NaN</td>\n",
       "      <td>62</td>\n",
       "      <td>NaN</td>\n",
       "      <td>NaN</td>\n",
       "      <td>NaN</td>\n",
       "      <td>06:90:f4:0e:e0:ff</td>\n",
       "    </tr>\n",
       "    <tr>\n",
       "      <th>1</th>\n",
       "      <td>0.000037</td>\n",
       "      <td>1</td>\n",
       "      <td>172.31.28.132</td>\n",
       "      <td>162.8.125.17</td>\n",
       "      <td>NaN</td>\n",
       "      <td>NaN</td>\n",
       "      <td>NaN</td>\n",
       "      <td>NaN</td>\n",
       "      <td>62</td>\n",
       "      <td>NaN</td>\n",
       "      <td>NaN</td>\n",
       "      <td>NaN</td>\n",
       "      <td>06:9a:6c:66:90:33</td>\n",
       "    </tr>\n",
       "    <tr>\n",
       "      <th>2</th>\n",
       "      <td>0.122451</td>\n",
       "      <td>17</td>\n",
       "      <td>172.31.28.132</td>\n",
       "      <td>172.31.0.2</td>\n",
       "      <td>51139.0</td>\n",
       "      <td>53.0</td>\n",
       "      <td>NaN</td>\n",
       "      <td>NaN</td>\n",
       "      <td>103</td>\n",
       "      <td>1.0</td>\n",
       "      <td>ip-172-31-28-132.us-west-2.compute.internal</td>\n",
       "      <td>NaN</td>\n",
       "      <td>06:9a:6c:66:90:33</td>\n",
       "    </tr>\n",
       "    <tr>\n",
       "      <th>3</th>\n",
       "      <td>0.122477</td>\n",
       "      <td>17</td>\n",
       "      <td>172.31.28.132</td>\n",
       "      <td>172.31.0.2</td>\n",
       "      <td>51139.0</td>\n",
       "      <td>53.0</td>\n",
       "      <td>NaN</td>\n",
       "      <td>NaN</td>\n",
       "      <td>103</td>\n",
       "      <td>28.0</td>\n",
       "      <td>ip-172-31-28-132.us-west-2.compute.internal</td>\n",
       "      <td>NaN</td>\n",
       "      <td>06:9a:6c:66:90:33</td>\n",
       "    </tr>\n",
       "    <tr>\n",
       "      <th>4</th>\n",
       "      <td>0.122684</td>\n",
       "      <td>17</td>\n",
       "      <td>172.31.0.2</td>\n",
       "      <td>172.31.28.132</td>\n",
       "      <td>53.0</td>\n",
       "      <td>51139.0</td>\n",
       "      <td>NaN</td>\n",
       "      <td>NaN</td>\n",
       "      <td>164</td>\n",
       "      <td>28.0</td>\n",
       "      <td>ip-172-31-28-132.us-west-2.compute.internal</td>\n",
       "      <td>us-west-2.compute.internal</td>\n",
       "      <td>06:90:f4:0e:e0:ff</td>\n",
       "    </tr>\n",
       "    <tr>\n",
       "      <th>...</th>\n",
       "      <td>...</td>\n",
       "      <td>...</td>\n",
       "      <td>...</td>\n",
       "      <td>...</td>\n",
       "      <td>...</td>\n",
       "      <td>...</td>\n",
       "      <td>...</td>\n",
       "      <td>...</td>\n",
       "      <td>...</td>\n",
       "      <td>...</td>\n",
       "      <td>...</td>\n",
       "      <td>...</td>\n",
       "      <td>...</td>\n",
       "    </tr>\n",
       "    <tr>\n",
       "      <th>122228</th>\n",
       "      <td>25.342655</td>\n",
       "      <td>17</td>\n",
       "      <td>122.154.73.42</td>\n",
       "      <td>172.31.28.132</td>\n",
       "      <td>53.0</td>\n",
       "      <td>80.0</td>\n",
       "      <td>NaN</td>\n",
       "      <td>NaN</td>\n",
       "      <td>3053</td>\n",
       "      <td>255.0</td>\n",
       "      <td>nlhosting.nl</td>\n",
       "      <td>nlhosting.nl,nlhosting.nl,nlhosting.nl,nlhosti...</td>\n",
       "      <td>06:90:f4:0e:e0:ff</td>\n",
       "    </tr>\n",
       "    <tr>\n",
       "      <th>122229</th>\n",
       "      <td>25.342809</td>\n",
       "      <td>17</td>\n",
       "      <td>121.32.89.198</td>\n",
       "      <td>172.31.28.132</td>\n",
       "      <td>53.0</td>\n",
       "      <td>80.0</td>\n",
       "      <td>NaN</td>\n",
       "      <td>NaN</td>\n",
       "      <td>2496</td>\n",
       "      <td>255.0</td>\n",
       "      <td>sandia.gov</td>\n",
       "      <td>sandia.gov,sandia.gov,sandia.gov,sandia.gov,sa...</td>\n",
       "      <td>06:90:f4:0e:e0:ff</td>\n",
       "    </tr>\n",
       "    <tr>\n",
       "      <th>122230</th>\n",
       "      <td>25.342933</td>\n",
       "      <td>17</td>\n",
       "      <td>89.228.8.86</td>\n",
       "      <td>172.31.28.132</td>\n",
       "      <td>53.0</td>\n",
       "      <td>80.0</td>\n",
       "      <td>NaN</td>\n",
       "      <td>NaN</td>\n",
       "      <td>225</td>\n",
       "      <td>255.0</td>\n",
       "      <td>ietf.org</td>\n",
       "      <td>ietf.org,ietf.org,ietf.org,ietf.org,ietf.org,i...</td>\n",
       "      <td>06:90:f4:0e:e0:ff</td>\n",
       "    </tr>\n",
       "    <tr>\n",
       "      <th>122231</th>\n",
       "      <td>25.342940</td>\n",
       "      <td>17</td>\n",
       "      <td>113.161.106.4</td>\n",
       "      <td>172.31.28.132</td>\n",
       "      <td>53.0</td>\n",
       "      <td>80.0</td>\n",
       "      <td>NaN</td>\n",
       "      <td>NaN</td>\n",
       "      <td>638</td>\n",
       "      <td>255.0</td>\n",
       "      <td>verisign.com</td>\n",
       "      <td>verisign.com,verisign.com,verisign.com</td>\n",
       "      <td>06:90:f4:0e:e0:ff</td>\n",
       "    </tr>\n",
       "    <tr>\n",
       "      <th>122232</th>\n",
       "      <td>25.343013</td>\n",
       "      <td>17</td>\n",
       "      <td>178.21.237.130</td>\n",
       "      <td>172.31.28.132</td>\n",
       "      <td>53.0</td>\n",
       "      <td>80.0</td>\n",
       "      <td>NaN</td>\n",
       "      <td>NaN</td>\n",
       "      <td>532</td>\n",
       "      <td>255.0</td>\n",
       "      <td>isc.org</td>\n",
       "      <td>isc.org,isc.org,isc.org,isc.org,isc.org,isc.or...</td>\n",
       "      <td>06:90:f4:0e:e0:ff</td>\n",
       "    </tr>\n",
       "  </tbody>\n",
       "</table>\n",
       "<p>122233 rows × 13 columns</p>\n",
       "</div>"
      ],
      "text/plain": [
       "        frame.time_epoch ip.proto          ip.src         ip.dst  udp.srcport  \\\n",
       "0               0.000000        1    162.8.125.17  172.31.28.132          NaN   \n",
       "1               0.000037        1   172.31.28.132   162.8.125.17          NaN   \n",
       "2               0.122451       17   172.31.28.132     172.31.0.2      51139.0   \n",
       "3               0.122477       17   172.31.28.132     172.31.0.2      51139.0   \n",
       "4               0.122684       17      172.31.0.2  172.31.28.132         53.0   \n",
       "...                  ...      ...             ...            ...          ...   \n",
       "122228         25.342655       17   122.154.73.42  172.31.28.132         53.0   \n",
       "122229         25.342809       17   121.32.89.198  172.31.28.132         53.0   \n",
       "122230         25.342933       17     89.228.8.86  172.31.28.132         53.0   \n",
       "122231         25.342940       17   113.161.106.4  172.31.28.132         53.0   \n",
       "122232         25.343013       17  178.21.237.130  172.31.28.132         53.0   \n",
       "\n",
       "        udp.dstport  tcp.srcport  tcp.dstport  frame.len  dns.qry.type  \\\n",
       "0               NaN          NaN          NaN         62           NaN   \n",
       "1               NaN          NaN          NaN         62           NaN   \n",
       "2              53.0          NaN          NaN        103           1.0   \n",
       "3              53.0          NaN          NaN        103          28.0   \n",
       "4           51139.0          NaN          NaN        164          28.0   \n",
       "...             ...          ...          ...        ...           ...   \n",
       "122228         80.0          NaN          NaN       3053         255.0   \n",
       "122229         80.0          NaN          NaN       2496         255.0   \n",
       "122230         80.0          NaN          NaN        225         255.0   \n",
       "122231         80.0          NaN          NaN        638         255.0   \n",
       "122232         80.0          NaN          NaN        532         255.0   \n",
       "\n",
       "                                       dns.qry.name  \\\n",
       "0                                               NaN   \n",
       "1                                               NaN   \n",
       "2       ip-172-31-28-132.us-west-2.compute.internal   \n",
       "3       ip-172-31-28-132.us-west-2.compute.internal   \n",
       "4       ip-172-31-28-132.us-west-2.compute.internal   \n",
       "...                                             ...   \n",
       "122228                                 nlhosting.nl   \n",
       "122229                                   sandia.gov   \n",
       "122230                                     ietf.org   \n",
       "122231                                 verisign.com   \n",
       "122232                                      isc.org   \n",
       "\n",
       "                                            dns.resp.name   eth.src_resolved  \n",
       "0                                                     NaN  06:90:f4:0e:e0:ff  \n",
       "1                                                     NaN  06:9a:6c:66:90:33  \n",
       "2                                                     NaN  06:9a:6c:66:90:33  \n",
       "3                                                     NaN  06:9a:6c:66:90:33  \n",
       "4                              us-west-2.compute.internal  06:90:f4:0e:e0:ff  \n",
       "...                                                   ...                ...  \n",
       "122228  nlhosting.nl,nlhosting.nl,nlhosting.nl,nlhosti...  06:90:f4:0e:e0:ff  \n",
       "122229  sandia.gov,sandia.gov,sandia.gov,sandia.gov,sa...  06:90:f4:0e:e0:ff  \n",
       "122230  ietf.org,ietf.org,ietf.org,ietf.org,ietf.org,i...  06:90:f4:0e:e0:ff  \n",
       "122231             verisign.com,verisign.com,verisign.com  06:90:f4:0e:e0:ff  \n",
       "122232  isc.org,isc.org,isc.org,isc.org,isc.org,isc.or...  06:90:f4:0e:e0:ff  \n",
       "\n",
       "[122233 rows x 13 columns]"
      ]
     },
     "execution_count": 3,
     "metadata": {},
     "output_type": "execute_result"
    }
   ],
   "source": [
    "df['frame.time_epoch'] -= df['frame.time_epoch'][0]\n",
    "df"
   ]
  },
  {
   "cell_type": "markdown",
   "metadata": {},
   "source": [
    "## 2.1 - Number of Records\n",
    "\n",
    "Looking at the number of rows in our dataframe, we see that the number of records in the entire trace is 122,233."
   ]
  },
  {
   "cell_type": "markdown",
   "metadata": {},
   "source": [
    "## 2.2 - Duration of the Trace\n",
    "\n",
    "We see that the time point of the first record is 0.0 and the last one is 25.3, therefore the duration is 25.3 seconds."
   ]
  },
  {
   "cell_type": "code",
   "execution_count": 4,
   "metadata": {},
   "outputs": [
    {
     "data": {
      "text/html": [
       "<div>\n",
       "<style scoped>\n",
       "    .dataframe tbody tr th:only-of-type {\n",
       "        vertical-align: middle;\n",
       "    }\n",
       "\n",
       "    .dataframe tbody tr th {\n",
       "        vertical-align: top;\n",
       "    }\n",
       "\n",
       "    .dataframe thead th {\n",
       "        text-align: right;\n",
       "    }\n",
       "</style>\n",
       "<table border=\"1\" class=\"dataframe\">\n",
       "  <thead>\n",
       "    <tr style=\"text-align: right;\">\n",
       "      <th></th>\n",
       "      <th>frame.time_epoch</th>\n",
       "      <th>ip.proto</th>\n",
       "      <th>ip.src</th>\n",
       "      <th>ip.dst</th>\n",
       "      <th>udp.srcport</th>\n",
       "      <th>udp.dstport</th>\n",
       "      <th>tcp.srcport</th>\n",
       "      <th>tcp.dstport</th>\n",
       "      <th>frame.len</th>\n",
       "      <th>dns.qry.type</th>\n",
       "      <th>dns.qry.name</th>\n",
       "      <th>dns.resp.name</th>\n",
       "      <th>eth.src_resolved</th>\n",
       "    </tr>\n",
       "  </thead>\n",
       "  <tbody>\n",
       "    <tr>\n",
       "      <th>0</th>\n",
       "      <td>0.000000</td>\n",
       "      <td>1</td>\n",
       "      <td>162.8.125.17</td>\n",
       "      <td>172.31.28.132</td>\n",
       "      <td>NaN</td>\n",
       "      <td>NaN</td>\n",
       "      <td>NaN</td>\n",
       "      <td>NaN</td>\n",
       "      <td>62</td>\n",
       "      <td>NaN</td>\n",
       "      <td>NaN</td>\n",
       "      <td>NaN</td>\n",
       "      <td>06:90:f4:0e:e0:ff</td>\n",
       "    </tr>\n",
       "    <tr>\n",
       "      <th>122232</th>\n",
       "      <td>25.343013</td>\n",
       "      <td>17</td>\n",
       "      <td>178.21.237.130</td>\n",
       "      <td>172.31.28.132</td>\n",
       "      <td>53.0</td>\n",
       "      <td>80.0</td>\n",
       "      <td>NaN</td>\n",
       "      <td>NaN</td>\n",
       "      <td>532</td>\n",
       "      <td>255.0</td>\n",
       "      <td>isc.org</td>\n",
       "      <td>isc.org,isc.org,isc.org,isc.org,isc.org,isc.or...</td>\n",
       "      <td>06:90:f4:0e:e0:ff</td>\n",
       "    </tr>\n",
       "  </tbody>\n",
       "</table>\n",
       "</div>"
      ],
      "text/plain": [
       "        frame.time_epoch ip.proto          ip.src         ip.dst  udp.srcport  \\\n",
       "0               0.000000        1    162.8.125.17  172.31.28.132          NaN   \n",
       "122232         25.343013       17  178.21.237.130  172.31.28.132         53.0   \n",
       "\n",
       "        udp.dstport  tcp.srcport  tcp.dstport  frame.len  dns.qry.type  \\\n",
       "0               NaN          NaN          NaN         62           NaN   \n",
       "122232         80.0          NaN          NaN        532         255.0   \n",
       "\n",
       "       dns.qry.name                                      dns.resp.name  \\\n",
       "0               NaN                                                NaN   \n",
       "122232      isc.org  isc.org,isc.org,isc.org,isc.org,isc.org,isc.or...   \n",
       "\n",
       "         eth.src_resolved  \n",
       "0       06:90:f4:0e:e0:ff  \n",
       "122232  06:90:f4:0e:e0:ff  "
      ]
     },
     "execution_count": 4,
     "metadata": {},
     "output_type": "execute_result"
    }
   ],
   "source": [
    "df.iloc[[0,-1]]"
   ]
  },
  {
   "cell_type": "markdown",
   "metadata": {},
   "source": [
    "## 2.3 - 3 Packets Which are not Part of the Attack\n",
    "![3 ICMP packets](figs/q3.png)\n",
    "\n",
    "These packets are not part of the attack, since it is ICMP traffic. ICMP stands for Internet Control Message Protocol and is for example used in pinging if a certain server is available. The destination address for these packets are also different then the ones which belong to the attack."
   ]
  },
  {
   "cell_type": "markdown",
   "metadata": {},
   "source": [
    "## 2.4 - Characterisitcs of the Attack\n",
    "At 2.6, we filter the dataset to the target IP address. Here can see that all traffic is DNS related, hence the attack is a Distributed Denial of Service attack using amplification through a DNS server."
   ]
  },
  {
   "cell_type": "markdown",
   "metadata": {},
   "source": [
    "## 2.5 - Wireshark Filter\n",
    "![Screenshot of Wireshark filter](figs/wireshark_filter.png)\n",
    "\n",
    "`ip.dst == 172.31.28.132`, which filters all packets on destination address of the victim."
   ]
  },
  {
   "cell_type": "markdown",
   "metadata": {},
   "source": [
    "## 2.6 - Target"
   ]
  },
  {
   "cell_type": "markdown",
   "metadata": {},
   "source": [
    "Looking at the number of times each ip address appears in the \"Destination\" column, we observe that the target is the ip address \"172.31.28.132\":"
   ]
  },
  {
   "cell_type": "code",
   "execution_count": 5,
   "metadata": {},
   "outputs": [
    {
     "data": {
      "text/plain": [
       "172.31.28.132                  120253\n",
       "172.31.0.2                        100\n",
       "92.103.90.30,172.31.28.132         26\n",
       "122.154.73.42,172.31.28.132        26\n",
       "61.7.231.225,172.31.28.132         26\n",
       "Name: ip.dst, dtype: int64"
      ]
     },
     "execution_count": 5,
     "metadata": {},
     "output_type": "execute_result"
    }
   ],
   "source": [
    "df['ip.dst'].value_counts()[:5]"
   ]
  },
  {
   "cell_type": "markdown",
   "metadata": {},
   "source": [
    "We use the dataframe of the attack from now on for answering the questions:"
   ]
  },
  {
   "cell_type": "code",
   "execution_count": 6,
   "metadata": {},
   "outputs": [
    {
     "data": {
      "text/html": [
       "<div>\n",
       "<style scoped>\n",
       "    .dataframe tbody tr th:only-of-type {\n",
       "        vertical-align: middle;\n",
       "    }\n",
       "\n",
       "    .dataframe tbody tr th {\n",
       "        vertical-align: top;\n",
       "    }\n",
       "\n",
       "    .dataframe thead th {\n",
       "        text-align: right;\n",
       "    }\n",
       "</style>\n",
       "<table border=\"1\" class=\"dataframe\">\n",
       "  <thead>\n",
       "    <tr style=\"text-align: right;\">\n",
       "      <th></th>\n",
       "      <th>frame.time_epoch</th>\n",
       "      <th>ip.proto</th>\n",
       "      <th>ip.src</th>\n",
       "      <th>ip.dst</th>\n",
       "      <th>udp.srcport</th>\n",
       "      <th>udp.dstport</th>\n",
       "      <th>tcp.srcport</th>\n",
       "      <th>tcp.dstport</th>\n",
       "      <th>frame.len</th>\n",
       "      <th>dns.qry.type</th>\n",
       "      <th>dns.qry.name</th>\n",
       "      <th>dns.resp.name</th>\n",
       "      <th>eth.src_resolved</th>\n",
       "    </tr>\n",
       "  </thead>\n",
       "  <tbody>\n",
       "    <tr>\n",
       "      <th>0</th>\n",
       "      <td>0.000000</td>\n",
       "      <td>1</td>\n",
       "      <td>162.8.125.17</td>\n",
       "      <td>172.31.28.132</td>\n",
       "      <td>NaN</td>\n",
       "      <td>NaN</td>\n",
       "      <td>NaN</td>\n",
       "      <td>NaN</td>\n",
       "      <td>62</td>\n",
       "      <td>NaN</td>\n",
       "      <td>NaN</td>\n",
       "      <td>NaN</td>\n",
       "      <td>06:90:f4:0e:e0:ff</td>\n",
       "    </tr>\n",
       "    <tr>\n",
       "      <th>4</th>\n",
       "      <td>0.122684</td>\n",
       "      <td>17</td>\n",
       "      <td>172.31.0.2</td>\n",
       "      <td>172.31.28.132</td>\n",
       "      <td>53.0</td>\n",
       "      <td>51139.0</td>\n",
       "      <td>NaN</td>\n",
       "      <td>NaN</td>\n",
       "      <td>164</td>\n",
       "      <td>28.0</td>\n",
       "      <td>ip-172-31-28-132.us-west-2.compute.internal</td>\n",
       "      <td>us-west-2.compute.internal</td>\n",
       "      <td>06:90:f4:0e:e0:ff</td>\n",
       "    </tr>\n",
       "    <tr>\n",
       "      <th>5</th>\n",
       "      <td>0.122704</td>\n",
       "      <td>17</td>\n",
       "      <td>172.31.0.2</td>\n",
       "      <td>172.31.28.132</td>\n",
       "      <td>53.0</td>\n",
       "      <td>51139.0</td>\n",
       "      <td>NaN</td>\n",
       "      <td>NaN</td>\n",
       "      <td>119</td>\n",
       "      <td>1.0</td>\n",
       "      <td>ip-172-31-28-132.us-west-2.compute.internal</td>\n",
       "      <td>ip-172-31-28-132.us-west-2.compute.internal</td>\n",
       "      <td>06:90:f4:0e:e0:ff</td>\n",
       "    </tr>\n",
       "    <tr>\n",
       "      <th>8</th>\n",
       "      <td>0.131178</td>\n",
       "      <td>17</td>\n",
       "      <td>172.31.0.2</td>\n",
       "      <td>172.31.28.132</td>\n",
       "      <td>53.0</td>\n",
       "      <td>51985.0</td>\n",
       "      <td>NaN</td>\n",
       "      <td>NaN</td>\n",
       "      <td>119</td>\n",
       "      <td>1.0</td>\n",
       "      <td>ip-172-31-28-132.us-west-2.compute.internal</td>\n",
       "      <td>ip-172-31-28-132.us-west-2.compute.internal</td>\n",
       "      <td>06:90:f4:0e:e0:ff</td>\n",
       "    </tr>\n",
       "    <tr>\n",
       "      <th>9</th>\n",
       "      <td>0.131193</td>\n",
       "      <td>17</td>\n",
       "      <td>172.31.0.2</td>\n",
       "      <td>172.31.28.132</td>\n",
       "      <td>53.0</td>\n",
       "      <td>51985.0</td>\n",
       "      <td>NaN</td>\n",
       "      <td>NaN</td>\n",
       "      <td>164</td>\n",
       "      <td>28.0</td>\n",
       "      <td>ip-172-31-28-132.us-west-2.compute.internal</td>\n",
       "      <td>us-west-2.compute.internal</td>\n",
       "      <td>06:90:f4:0e:e0:ff</td>\n",
       "    </tr>\n",
       "    <tr>\n",
       "      <th>...</th>\n",
       "      <td>...</td>\n",
       "      <td>...</td>\n",
       "      <td>...</td>\n",
       "      <td>...</td>\n",
       "      <td>...</td>\n",
       "      <td>...</td>\n",
       "      <td>...</td>\n",
       "      <td>...</td>\n",
       "      <td>...</td>\n",
       "      <td>...</td>\n",
       "      <td>...</td>\n",
       "      <td>...</td>\n",
       "      <td>...</td>\n",
       "    </tr>\n",
       "    <tr>\n",
       "      <th>122228</th>\n",
       "      <td>25.342655</td>\n",
       "      <td>17</td>\n",
       "      <td>122.154.73.42</td>\n",
       "      <td>172.31.28.132</td>\n",
       "      <td>53.0</td>\n",
       "      <td>80.0</td>\n",
       "      <td>NaN</td>\n",
       "      <td>NaN</td>\n",
       "      <td>3053</td>\n",
       "      <td>255.0</td>\n",
       "      <td>nlhosting.nl</td>\n",
       "      <td>nlhosting.nl,nlhosting.nl,nlhosting.nl,nlhosti...</td>\n",
       "      <td>06:90:f4:0e:e0:ff</td>\n",
       "    </tr>\n",
       "    <tr>\n",
       "      <th>122229</th>\n",
       "      <td>25.342809</td>\n",
       "      <td>17</td>\n",
       "      <td>121.32.89.198</td>\n",
       "      <td>172.31.28.132</td>\n",
       "      <td>53.0</td>\n",
       "      <td>80.0</td>\n",
       "      <td>NaN</td>\n",
       "      <td>NaN</td>\n",
       "      <td>2496</td>\n",
       "      <td>255.0</td>\n",
       "      <td>sandia.gov</td>\n",
       "      <td>sandia.gov,sandia.gov,sandia.gov,sandia.gov,sa...</td>\n",
       "      <td>06:90:f4:0e:e0:ff</td>\n",
       "    </tr>\n",
       "    <tr>\n",
       "      <th>122230</th>\n",
       "      <td>25.342933</td>\n",
       "      <td>17</td>\n",
       "      <td>89.228.8.86</td>\n",
       "      <td>172.31.28.132</td>\n",
       "      <td>53.0</td>\n",
       "      <td>80.0</td>\n",
       "      <td>NaN</td>\n",
       "      <td>NaN</td>\n",
       "      <td>225</td>\n",
       "      <td>255.0</td>\n",
       "      <td>ietf.org</td>\n",
       "      <td>ietf.org,ietf.org,ietf.org,ietf.org,ietf.org,i...</td>\n",
       "      <td>06:90:f4:0e:e0:ff</td>\n",
       "    </tr>\n",
       "    <tr>\n",
       "      <th>122231</th>\n",
       "      <td>25.342940</td>\n",
       "      <td>17</td>\n",
       "      <td>113.161.106.4</td>\n",
       "      <td>172.31.28.132</td>\n",
       "      <td>53.0</td>\n",
       "      <td>80.0</td>\n",
       "      <td>NaN</td>\n",
       "      <td>NaN</td>\n",
       "      <td>638</td>\n",
       "      <td>255.0</td>\n",
       "      <td>verisign.com</td>\n",
       "      <td>verisign.com,verisign.com,verisign.com</td>\n",
       "      <td>06:90:f4:0e:e0:ff</td>\n",
       "    </tr>\n",
       "    <tr>\n",
       "      <th>122232</th>\n",
       "      <td>25.343013</td>\n",
       "      <td>17</td>\n",
       "      <td>178.21.237.130</td>\n",
       "      <td>172.31.28.132</td>\n",
       "      <td>53.0</td>\n",
       "      <td>80.0</td>\n",
       "      <td>NaN</td>\n",
       "      <td>NaN</td>\n",
       "      <td>532</td>\n",
       "      <td>255.0</td>\n",
       "      <td>isc.org</td>\n",
       "      <td>isc.org,isc.org,isc.org,isc.org,isc.org,isc.or...</td>\n",
       "      <td>06:90:f4:0e:e0:ff</td>\n",
       "    </tr>\n",
       "  </tbody>\n",
       "</table>\n",
       "<p>122131 rows × 13 columns</p>\n",
       "</div>"
      ],
      "text/plain": [
       "        frame.time_epoch ip.proto          ip.src         ip.dst  udp.srcport  \\\n",
       "0               0.000000        1    162.8.125.17  172.31.28.132          NaN   \n",
       "4               0.122684       17      172.31.0.2  172.31.28.132         53.0   \n",
       "5               0.122704       17      172.31.0.2  172.31.28.132         53.0   \n",
       "8               0.131178       17      172.31.0.2  172.31.28.132         53.0   \n",
       "9               0.131193       17      172.31.0.2  172.31.28.132         53.0   \n",
       "...                  ...      ...             ...            ...          ...   \n",
       "122228         25.342655       17   122.154.73.42  172.31.28.132         53.0   \n",
       "122229         25.342809       17   121.32.89.198  172.31.28.132         53.0   \n",
       "122230         25.342933       17     89.228.8.86  172.31.28.132         53.0   \n",
       "122231         25.342940       17   113.161.106.4  172.31.28.132         53.0   \n",
       "122232         25.343013       17  178.21.237.130  172.31.28.132         53.0   \n",
       "\n",
       "        udp.dstport  tcp.srcport  tcp.dstport  frame.len  dns.qry.type  \\\n",
       "0               NaN          NaN          NaN         62           NaN   \n",
       "4           51139.0          NaN          NaN        164          28.0   \n",
       "5           51139.0          NaN          NaN        119           1.0   \n",
       "8           51985.0          NaN          NaN        119           1.0   \n",
       "9           51985.0          NaN          NaN        164          28.0   \n",
       "...             ...          ...          ...        ...           ...   \n",
       "122228         80.0          NaN          NaN       3053         255.0   \n",
       "122229         80.0          NaN          NaN       2496         255.0   \n",
       "122230         80.0          NaN          NaN        225         255.0   \n",
       "122231         80.0          NaN          NaN        638         255.0   \n",
       "122232         80.0          NaN          NaN        532         255.0   \n",
       "\n",
       "                                       dns.qry.name  \\\n",
       "0                                               NaN   \n",
       "4       ip-172-31-28-132.us-west-2.compute.internal   \n",
       "5       ip-172-31-28-132.us-west-2.compute.internal   \n",
       "8       ip-172-31-28-132.us-west-2.compute.internal   \n",
       "9       ip-172-31-28-132.us-west-2.compute.internal   \n",
       "...                                             ...   \n",
       "122228                                 nlhosting.nl   \n",
       "122229                                   sandia.gov   \n",
       "122230                                     ietf.org   \n",
       "122231                                 verisign.com   \n",
       "122232                                      isc.org   \n",
       "\n",
       "                                            dns.resp.name   eth.src_resolved  \n",
       "0                                                     NaN  06:90:f4:0e:e0:ff  \n",
       "4                              us-west-2.compute.internal  06:90:f4:0e:e0:ff  \n",
       "5             ip-172-31-28-132.us-west-2.compute.internal  06:90:f4:0e:e0:ff  \n",
       "8             ip-172-31-28-132.us-west-2.compute.internal  06:90:f4:0e:e0:ff  \n",
       "9                              us-west-2.compute.internal  06:90:f4:0e:e0:ff  \n",
       "...                                                   ...                ...  \n",
       "122228  nlhosting.nl,nlhosting.nl,nlhosting.nl,nlhosti...  06:90:f4:0e:e0:ff  \n",
       "122229  sandia.gov,sandia.gov,sandia.gov,sandia.gov,sa...  06:90:f4:0e:e0:ff  \n",
       "122230  ietf.org,ietf.org,ietf.org,ietf.org,ietf.org,i...  06:90:f4:0e:e0:ff  \n",
       "122231             verisign.com,verisign.com,verisign.com  06:90:f4:0e:e0:ff  \n",
       "122232  isc.org,isc.org,isc.org,isc.org,isc.org,isc.or...  06:90:f4:0e:e0:ff  \n",
       "\n",
       "[122131 rows x 13 columns]"
      ]
     },
     "execution_count": 6,
     "metadata": {},
     "output_type": "execute_result"
    }
   ],
   "source": [
    "attack_df = df[(df['ip.dst'].apply(lambda x: \"172.31.28.132\" in x))]\n",
    "attack_df"
   ]
  },
  {
   "cell_type": "markdown",
   "metadata": {},
   "source": [
    "## 2.7 - Number of Records in the Attack\n",
    "\n",
    "Looking at the numbers above, we observed that there were 120,253 records belonging to the attack."
   ]
  },
  {
   "cell_type": "markdown",
   "metadata": {},
   "source": [
    "## 2.8 - Unique IPs in the Attack"
   ]
  },
  {
   "cell_type": "markdown",
   "metadata": {},
   "source": [
    "When we selected the records with \"192.168.1.183\" as the target and looked at the Source IPs, we observed that there are 83 unique IP addresses performing the attack."
   ]
  },
  {
   "cell_type": "code",
   "execution_count": 7,
   "metadata": {
    "scrolled": false
   },
   "outputs": [
    {
     "name": "stdout",
     "output_type": "stream",
     "text": [
      "Unique IPs performing the attack: 83\n",
      "['162.8.125.17' '172.31.0.2' '162.8.125.20' '89.228.8.86' '70.62.123.36'\n",
      " '82.145.62.6' '82.145.62.5' '37.123.96.179' '92.103.90.30' '82.80.26.175'\n",
      " '192.117.105.121' '61.93.9.158' '81.5.178.235' '198.101.213.159'\n",
      " '218.216.183.36' '62.219.152.108' '109.2.223.27' '81.218.145.44'\n",
      " '61.7.231.225' '122.154.73.42' '42.112.208.60' '61.19.78.113'\n",
      " '122.154.238.10' '81.218.188.83' '121.32.89.198' '59.154.53.77'\n",
      " '203.174.167.20' '82.145.62.7' '82.145.62.3' '211.138.248.108'\n",
      " '110.170.116.9' '81.7.86.91' '110.170.116.12' '60.250.159.61'\n",
      " '109.184.1.96' '217.15.140.158' '200.107.235.46' '113.161.106.4'\n",
      " '62.219.141.161' '61.152.126.84' '202.10.92.5' '180.180.126.177'\n",
      " '109.161.52.1' '217.118.186.54' '189.90.244.42' '80.51.214.183'\n",
      " '85.93.44.161' '88.85.171.248' '110.159.221.147' '59.46.49.50'\n",
      " '63.246.239.2' '61.152.126.82' '113.161.106.6' '46.145.104.93'\n",
      " '195.175.90.210' '110.77.140.17' '177.69.215.97' '118.70.197.18'\n",
      " '175.138.61.51' '118.70.197.32' '113.161.106.2' '218.94.74.157'\n",
      " '118.70.197.42' '217.219.122.38' '59.46.49.51' '174.46.39.31'\n",
      " '175.138.67.50' '81.218.147.197' '62.219.116.56' '118.70.197.2'\n",
      " '78.189.16.152' '140.246.17.9' '62.219.208.81' '190.109.221.46'\n",
      " '119.75.11.139' '178.21.237.130' '186.227.165.6' '109.169.45.81'\n",
      " '31.168.112.149' '92.50.0.243' '179.146.137.239' '103.10.230.143'\n",
      " '203.186.108.102']\n"
     ]
    },
    {
     "name": "stderr",
     "output_type": "stream",
     "text": [
      "/tmp/ipykernel_19035/3839143380.py:1: SettingWithCopyWarning: \n",
      "A value is trying to be set on a copy of a slice from a DataFrame.\n",
      "Try using .loc[row_indexer,col_indexer] = value instead\n",
      "\n",
      "See the caveats in the documentation: https://pandas.pydata.org/pandas-docs/stable/user_guide/indexing.html#returning-a-view-versus-a-copy\n",
      "  attack_df['ip.src'] = attack_df['ip.src'].apply(lambda x: x.split(',')[-1]) #Remove entries with 2 source IP's, always take the latter one\n"
     ]
    }
   ],
   "source": [
    "attack_df['ip.src'] = attack_df['ip.src'].apply(lambda x: x.split(',')[-1]) #Remove entries with 2 source IP's, always take the latter one\n",
    "print(\"Unique IPs performing the attack: %d\" % len(attack_df['ip.src'].unique()))\n",
    "print(attack_df['ip.src'].unique())"
   ]
  },
  {
   "cell_type": "markdown",
   "metadata": {},
   "source": [
    "## 2.9 - Top 3 Sources"
   ]
  },
  {
   "cell_type": "markdown",
   "metadata": {},
   "source": [
    "When we count the number of packages belonging to each source, we see the following list. The top 3 ip addresses are \"37.123.96.179\", \"61.93.9.158\" and \"121.32.89.198\"."
   ]
  },
  {
   "cell_type": "code",
   "execution_count": 8,
   "metadata": {},
   "outputs": [
    {
     "data": {
      "text/plain": [
       "37.123.96.179    11152\n",
       "61.93.9.158       8112\n",
       "121.32.89.198     6286\n",
       "Name: ip.src, dtype: int64"
      ]
     },
     "execution_count": 8,
     "metadata": {},
     "output_type": "execute_result"
    }
   ],
   "source": [
    "topThree = attack_df['ip.src'].value_counts().head(3)\n",
    "topThree"
   ]
  },
  {
   "cell_type": "markdown",
   "metadata": {},
   "source": [
    "## 2.10 and 2.11 Geolocation and Autonomous System of Top 3 Sources\n",
    "\n",
    "For geolocating the ip addresses, we used the [WhatIsMyIp.com](https://www.whatismyip.com/ip-address-lookup/) website. We found the results in the following table:\n",
    "\n",
    "| IP | Autonomous System | City | State/Region | Country Code | Postal Code | ISP | Time Zone |\n",
    "| -  | -   | -    | -            | -            | -           | -   | -         |\n",
    "| 37.123.96.179 | AS57844 | Manisa | Manisa | Turkey | 45000 | SPDNet Telekomunikasyon Hizmetleri Bilgi Teknolojileri Taahhut Sanayi Ve Ticaret A.S. | +03:00 |\n",
    "| 61.93.9.158 | AS9269 | Honk Kong | Honk Kong | Honk Kong | - | HKBN - Corporate User | +08:00 |\n",
    "| 121.32.89.198 | AS4134 | Guangzhou | Guangdong | China | 510140 |  ChinaNet Guangdong Province Network | +08:00 |\n"
   ]
  },
  {
   "cell_type": "markdown",
   "metadata": {},
   "source": []
  },
  {
   "cell_type": "markdown",
   "metadata": {},
   "source": [
    "## 2.12 Vendors related to the Top 3 Sources"
   ]
  },
  {
   "cell_type": "code",
   "execution_count": 9,
   "metadata": {},
   "outputs": [
    {
     "data": {
      "text/html": [
       "<div>\n",
       "<style scoped>\n",
       "    .dataframe tbody tr th:only-of-type {\n",
       "        vertical-align: middle;\n",
       "    }\n",
       "\n",
       "    .dataframe tbody tr th {\n",
       "        vertical-align: top;\n",
       "    }\n",
       "\n",
       "    .dataframe thead th {\n",
       "        text-align: right;\n",
       "    }\n",
       "</style>\n",
       "<table border=\"1\" class=\"dataframe\">\n",
       "  <thead>\n",
       "    <tr style=\"text-align: right;\">\n",
       "      <th></th>\n",
       "      <th>ip</th>\n",
       "      <th>ethernet</th>\n",
       "    </tr>\n",
       "  </thead>\n",
       "  <tbody>\n",
       "    <tr>\n",
       "      <th>0</th>\n",
       "      <td>37.123.96.179</td>\n",
       "      <td>06:90:f4:0e:e0:ff</td>\n",
       "    </tr>\n",
       "    <tr>\n",
       "      <th>1</th>\n",
       "      <td>61.93.9.158</td>\n",
       "      <td>06:90:f4:0e:e0:ff</td>\n",
       "    </tr>\n",
       "    <tr>\n",
       "      <th>2</th>\n",
       "      <td>121.32.89.198</td>\n",
       "      <td>06:90:f4:0e:e0:ff</td>\n",
       "    </tr>\n",
       "  </tbody>\n",
       "</table>\n",
       "</div>"
      ],
      "text/plain": [
       "              ip           ethernet\n",
       "0  37.123.96.179  06:90:f4:0e:e0:ff\n",
       "1    61.93.9.158  06:90:f4:0e:e0:ff\n",
       "2  121.32.89.198  06:90:f4:0e:e0:ff"
      ]
     },
     "execution_count": 9,
     "metadata": {},
     "output_type": "execute_result"
    }
   ],
   "source": [
    "topThreeMAC = pd.DataFrame(data=[],columns=['ip', 'ethernet'])\n",
    "\n",
    "for ip in topThree.keys():\n",
    "    singleRecord = attack_df[attack_df['ip.src'] == ip].head(1)\n",
    "    record = {'ip': ip, 'ethernet': singleRecord['eth.src_resolved'].tolist()[0]}\n",
    "    topThreeMAC = topThreeMAC.append(record, ignore_index=True)\n",
    "    \n",
    "topThreeMAC"
   ]
  },
  {
   "cell_type": "markdown",
   "metadata": {},
   "source": [
    "Hence, we can see that all ethernet source addresses are `06:90:f4:0e:e0:ff`. After doing a [MAC address to vendor lookup](https://macvendors.com/), we noticed that it did not correspond to a certain block of MAC addresses."
   ]
  },
  {
   "cell_type": "markdown",
   "metadata": {},
   "source": [
    "## 2.13 - Source Ports\n",
    "\n",
    "UDP ports used in the attack are 53 and 1988:"
   ]
  },
  {
   "cell_type": "code",
   "execution_count": 10,
   "metadata": {},
   "outputs": [
    {
     "data": {
      "text/plain": [
       "53.0      122126\n",
       "1988.0         2\n",
       "Name: udp.srcport, dtype: int64"
      ]
     },
     "execution_count": 10,
     "metadata": {},
     "output_type": "execute_result"
    }
   ],
   "source": [
    "attack_df['udp.srcport'].value_counts()"
   ]
  },
  {
   "cell_type": "markdown",
   "metadata": {},
   "source": [
    "Only TCP port used in the attack is 80:"
   ]
  },
  {
   "cell_type": "code",
   "execution_count": 11,
   "metadata": {},
   "outputs": [
    {
     "data": {
      "text/plain": [
       "80.0    1\n",
       "Name: tcp.srcport, dtype: int64"
      ]
     },
     "execution_count": 11,
     "metadata": {},
     "output_type": "execute_result"
    }
   ],
   "source": [
    "attack_df['tcp.srcport'].value_counts()"
   ]
  },
  {
   "cell_type": "markdown",
   "metadata": {},
   "source": [
    "## 2.14 - Data Rate Peak\n",
    "\n",
    "To calculate the data rate over time, we can use the \"Time\" column of our dataset. We can use [the moving average](https://en.wikipedia.org/wiki/Moving_average) approach. Basically we will have a window of time and we will calculate the data rate within the window and we will keep sliding this window until we reach the end of the attack. You can see the plot down below:"
   ]
  },
  {
   "cell_type": "code",
   "execution_count": 12,
   "metadata": {},
   "outputs": [
    {
     "data": {
      "image/png": "[encoded data removed]",
      "text/plain": [
       "<Figure size 1440x360 with 1 Axes>"
      ]
     },
     "metadata": {
      "needs_background": "light"
     },
     "output_type": "display_data"
    },
    {
     "name": "stdout",
     "output_type": "stream",
     "text": [
      "Highest rate: 120.0975\n"
     ]
    }
   ],
   "source": [
    "n_steps = 2000  # resolution\n",
    "padding = 1     # number of seconds to show in the plot before and after the attack \n",
    "\n",
    "cur_time = - padding\n",
    "final_time = attack_df.iloc[122130]['frame.time_epoch'] + 1 + padding\n",
    "window_size = (final_time - cur_time)/n_steps\n",
    "\n",
    "time_steps   = []\n",
    "rates        = []\n",
    "highest_rate = -1\n",
    "\n",
    "while cur_time < final_time:\n",
    "    window_df = attack_df[(cur_time - 1 <= attack_df['frame.time_epoch']) & (attack_df['frame.time_epoch'] <= cur_time)]\n",
    "    rate      = window_df['frame.len'].sum() / 1e6 * 8\n",
    "\n",
    "    time_steps.append(cur_time)\n",
    "    rates.append(rate)\n",
    "\n",
    "    if rate > highest_rate:\n",
    "        highest_rate = rate\n",
    "\n",
    "    cur_time += window_size\n",
    "\n",
    "# Plotting\n",
    "plt.figure(figsize=(20, 5))\n",
    "plt.plot(time_steps, rates)\n",
    "plt.title(\"Data Rate Over Time\")\n",
    "plt.ylabel(\"Data Rate (Mbits/s)\")\n",
    "plt.xlabel(\"Time (s)\")\n",
    "plt.show()\n",
    "\n",
    "print(\"Highest rate: %.4f\" % highest_rate)"
   ]
  },
  {
   "cell_type": "markdown",
   "metadata": {},
   "source": [
    "We concluded that the highest Mbit rate was 120.0975"
   ]
  },
  {
   "cell_type": "markdown",
   "metadata": {},
   "source": [
    "## 2.15 - TCP Flags\n",
    "\n",
    "We only found one package using TCP:"
   ]
  },
  {
   "cell_type": "code",
   "execution_count": 13,
   "metadata": {},
   "outputs": [
    {
     "data": {
      "text/plain": [
       "80.0    1\n",
       "Name: tcp.srcport, dtype: int64"
      ]
     },
     "execution_count": 13,
     "metadata": {},
     "output_type": "execute_result"
    }
   ],
   "source": [
    "attack_df['tcp.srcport'].value_counts()"
   ]
  },
  {
   "cell_type": "markdown",
   "metadata": {},
   "source": [
    "Content of the flag can be seen below:\n",
    "\n",
    "![TCP contect](figs/tcp-flags.jfif)"
   ]
  },
  {
   "cell_type": "markdown",
   "metadata": {},
   "source": [
    "## 2.16 - Packet Lenght Distribution"
   ]
  },
  {
   "cell_type": "markdown",
   "metadata": {},
   "source": [
    "When we plot a pie chart to see the distribution of the packet lengths in the attack, we observed that all the packages in the attack have the same size, 74."
   ]
  },
  {
   "cell_type": "code",
   "execution_count": 14,
   "metadata": {},
   "outputs": [
    {
     "data": {
      "image/png": "[encoded data removed]",
      "text/plain": [
       "<Figure size 432x288 with 1 Axes>"
      ]
     },
     "metadata": {
      "needs_background": "light"
     },
     "output_type": "display_data"
    }
   ],
   "source": [
    "plt.title(\"Packet Length Distributions\")\n",
    "plt.xlabel(\"Length\")\n",
    "attack_df['frame.len'].plot.hist(bins=20)\n",
    "plt.show()"
   ]
  },
  {
   "cell_type": "markdown",
   "metadata": {},
   "source": [
    "# 3. Conclusion\n",
    "Using the exercises we have gotten a better look at what is happening exactly during a Denial of Service attack. We will now answer the questions we had at the start of the assignment.\n",
    "\n",
    "## How big is this Denial of Service attack?\n",
    "To answer this question, we can quickly sum all frame lengths from our DataFrame. Since all frame lengths are represented in bytes, we multiple it by 10<sup>-9</sup> in order to get the amount in gigabytes."
   ]
  },
  {
   "cell_type": "code",
   "execution_count": 17,
   "metadata": {},
   "outputs": [
    {
     "data": {
      "text/plain": [
       "0.268907924"
      ]
     },
     "execution_count": 17,
     "metadata": {},
     "output_type": "execute_result"
    }
   ],
   "source": [
    "attack_df['frame.len'].sum() * (10 ** -9)"
   ]
  },
  {
   "cell_type": "markdown",
   "metadata": {},
   "source": [
    "## How many packets are sent in this Denial of Service attack?\n",
    "This answer can be answered easily by using question 2.13, which counted a total of 122126 which were sent from port 53, hence was DNS traffic.\n",
    "\n",
    "## How many systems were used in this Denial of Service attack?\n",
    "We can use question 2.8 for this, because we see a total of 83 unique source addresses. This means that there were 83 IPs from which DNS respones were sent to the victim device."
   ]
  },
  {
   "cell_type": "code",
   "execution_count": null,
   "metadata": {},
   "outputs": [],
   "source": []
  }
 ],
 "metadata": {
  "interpreter": {
   "hash": "473b09b14929ec2d62fd15ed2d86bed0025b0356f60f179d534857bf2aca0ec5"
  },
  "kernelspec": {
   "display_name": "Python 3 (ipykernel)",
   "language": "python",
   "name": "python3"
  },
  "language_info": {
   "codemirror_mode": {
    "name": "ipython",
    "version": 3
   },
   "file_extension": ".py",
   "mimetype": "text/x-python",
   "name": "python",
   "nbconvert_exporter": "python",
   "pygments_lexer": "ipython3",
   "version": "3.9.5"
  }
 },
 "nbformat": 4,
 "nbformat_minor": 2
}

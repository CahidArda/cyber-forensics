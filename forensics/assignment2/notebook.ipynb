{
 "cells": [
  {
   "cell_type": "code",
   "execution_count": 1,
   "metadata": {},
   "outputs": [],
   "source": [
    "import pandas as pd\n",
    "import matplotlib.pyplot as plt"
   ]
  },
  {
   "cell_type": "markdown",
   "metadata": {},
   "source": [
    "# Introduction to Digital Forensics - Assignment 2\n",
    "\n",
    "Contributors (Project group 2):\n",
    "- Carlos de Bourbon de Parme\n",
    "- Vera Schockemöhle\n",
    "- Floor Schutrups\n",
    "- Jelle Hulter\n",
    "- Nora Yigit\n",
    "- Arda Öz"
   ]
  },
  {
   "cell_type": "markdown",
   "metadata": {},
   "source": [
    "# 1. Introduction/Motivation"
   ]
  },
  {
   "cell_type": "markdown",
   "metadata": {},
   "source": [
    "# 2. Methodology\n",
    "\n",
    "Answers of the questions are organized such that each subsection of the methodology section is answer to a question with the same number.\n",
    "\n",
    "We begin our investigation by exporting the wireshark trace as a csv and importing it using pandas:"
   ]
  },
  {
   "cell_type": "code",
   "execution_count": 2,
   "metadata": {},
   "outputs": [
    {
     "data": {
      "text/html": [
       "<div>\n",
       "<style scoped>\n",
       "    .dataframe tbody tr th:only-of-type {\n",
       "        vertical-align: middle;\n",
       "    }\n",
       "\n",
       "    .dataframe tbody tr th {\n",
       "        vertical-align: top;\n",
       "    }\n",
       "\n",
       "    .dataframe thead th {\n",
       "        text-align: right;\n",
       "    }\n",
       "</style>\n",
       "<table border=\"1\" class=\"dataframe\">\n",
       "  <thead>\n",
       "    <tr style=\"text-align: right;\">\n",
       "      <th></th>\n",
       "      <th>No.</th>\n",
       "      <th>Time</th>\n",
       "      <th>Source</th>\n",
       "      <th>Destination</th>\n",
       "      <th>Protocol</th>\n",
       "      <th>Length</th>\n",
       "      <th>Info</th>\n",
       "    </tr>\n",
       "  </thead>\n",
       "  <tbody>\n",
       "    <tr>\n",
       "      <th>0</th>\n",
       "      <td>1</td>\n",
       "      <td>0.000000</td>\n",
       "      <td>162.8.125.17</td>\n",
       "      <td>172.31.28.132</td>\n",
       "      <td>ICMP</td>\n",
       "      <td>62</td>\n",
       "      <td>Echo (ping) request  id=0x07ae, seq=33434/3955...</td>\n",
       "    </tr>\n",
       "    <tr>\n",
       "      <th>1</th>\n",
       "      <td>2</td>\n",
       "      <td>0.000037</td>\n",
       "      <td>172.31.28.132</td>\n",
       "      <td>162.8.125.17</td>\n",
       "      <td>ICMP</td>\n",
       "      <td>62</td>\n",
       "      <td>Echo (ping) reply    id=0x07ae, seq=33434/3955...</td>\n",
       "    </tr>\n",
       "    <tr>\n",
       "      <th>2</th>\n",
       "      <td>3</td>\n",
       "      <td>0.122451</td>\n",
       "      <td>172.31.28.132</td>\n",
       "      <td>172.31.0.2</td>\n",
       "      <td>DNS</td>\n",
       "      <td>103</td>\n",
       "      <td>Standard query 0x1365 A ip-172-31-28-132.us-we...</td>\n",
       "    </tr>\n",
       "    <tr>\n",
       "      <th>3</th>\n",
       "      <td>4</td>\n",
       "      <td>0.122477</td>\n",
       "      <td>172.31.28.132</td>\n",
       "      <td>172.31.0.2</td>\n",
       "      <td>DNS</td>\n",
       "      <td>103</td>\n",
       "      <td>Standard query 0xb0d5 AAAA ip-172-31-28-132.us...</td>\n",
       "    </tr>\n",
       "    <tr>\n",
       "      <th>4</th>\n",
       "      <td>5</td>\n",
       "      <td>0.122684</td>\n",
       "      <td>172.31.0.2</td>\n",
       "      <td>172.31.28.132</td>\n",
       "      <td>DNS</td>\n",
       "      <td>164</td>\n",
       "      <td>Standard query response 0xb0d5 AAAA ip-172-31-...</td>\n",
       "    </tr>\n",
       "    <tr>\n",
       "      <th>...</th>\n",
       "      <td>...</td>\n",
       "      <td>...</td>\n",
       "      <td>...</td>\n",
       "      <td>...</td>\n",
       "      <td>...</td>\n",
       "      <td>...</td>\n",
       "      <td>...</td>\n",
       "    </tr>\n",
       "    <tr>\n",
       "      <th>122228</th>\n",
       "      <td>122229</td>\n",
       "      <td>25.342655</td>\n",
       "      <td>122.154.73.42</td>\n",
       "      <td>172.31.28.132</td>\n",
       "      <td>DNS</td>\n",
       "      <td>3053</td>\n",
       "      <td>Standard query response 0x7449 ANY nlhosting.n...</td>\n",
       "    </tr>\n",
       "    <tr>\n",
       "      <th>122229</th>\n",
       "      <td>122230</td>\n",
       "      <td>25.342809</td>\n",
       "      <td>121.32.89.198</td>\n",
       "      <td>172.31.28.132</td>\n",
       "      <td>DNS</td>\n",
       "      <td>2496</td>\n",
       "      <td>Standard query response 0x14c6 ANY sandia.gov ...</td>\n",
       "    </tr>\n",
       "    <tr>\n",
       "      <th>122230</th>\n",
       "      <td>122231</td>\n",
       "      <td>25.342933</td>\n",
       "      <td>89.228.8.86</td>\n",
       "      <td>172.31.28.132</td>\n",
       "      <td>DNS</td>\n",
       "      <td>225</td>\n",
       "      <td>Standard query response 0x767e ANY ietf.org NS...</td>\n",
       "    </tr>\n",
       "    <tr>\n",
       "      <th>122231</th>\n",
       "      <td>122232</td>\n",
       "      <td>25.342940</td>\n",
       "      <td>113.161.106.4</td>\n",
       "      <td>172.31.28.132</td>\n",
       "      <td>DNS</td>\n",
       "      <td>638</td>\n",
       "      <td>Standard query response 0x280d ANY verisign.co...</td>\n",
       "    </tr>\n",
       "    <tr>\n",
       "      <th>122232</th>\n",
       "      <td>122233</td>\n",
       "      <td>25.343013</td>\n",
       "      <td>178.21.237.130</td>\n",
       "      <td>172.31.28.132</td>\n",
       "      <td>DNS</td>\n",
       "      <td>532</td>\n",
       "      <td>Standard query response 0x0831 ANY isc.org A 1...</td>\n",
       "    </tr>\n",
       "  </tbody>\n",
       "</table>\n",
       "<p>122233 rows × 7 columns</p>\n",
       "</div>"
      ],
      "text/plain": [
       "           No.       Time          Source    Destination Protocol  Length  \\\n",
       "0            1   0.000000    162.8.125.17  172.31.28.132     ICMP      62   \n",
       "1            2   0.000037   172.31.28.132   162.8.125.17     ICMP      62   \n",
       "2            3   0.122451   172.31.28.132     172.31.0.2      DNS     103   \n",
       "3            4   0.122477   172.31.28.132     172.31.0.2      DNS     103   \n",
       "4            5   0.122684      172.31.0.2  172.31.28.132      DNS     164   \n",
       "...        ...        ...             ...            ...      ...     ...   \n",
       "122228  122229  25.342655   122.154.73.42  172.31.28.132      DNS    3053   \n",
       "122229  122230  25.342809   121.32.89.198  172.31.28.132      DNS    2496   \n",
       "122230  122231  25.342933     89.228.8.86  172.31.28.132      DNS     225   \n",
       "122231  122232  25.342940   113.161.106.4  172.31.28.132      DNS     638   \n",
       "122232  122233  25.343013  178.21.237.130  172.31.28.132      DNS     532   \n",
       "\n",
       "                                                     Info  \n",
       "0       Echo (ping) request  id=0x07ae, seq=33434/3955...  \n",
       "1       Echo (ping) reply    id=0x07ae, seq=33434/3955...  \n",
       "2       Standard query 0x1365 A ip-172-31-28-132.us-we...  \n",
       "3       Standard query 0xb0d5 AAAA ip-172-31-28-132.us...  \n",
       "4       Standard query response 0xb0d5 AAAA ip-172-31-...  \n",
       "...                                                   ...  \n",
       "122228  Standard query response 0x7449 ANY nlhosting.n...  \n",
       "122229  Standard query response 0x14c6 ANY sandia.gov ...  \n",
       "122230  Standard query response 0x767e ANY ietf.org NS...  \n",
       "122231  Standard query response 0x280d ANY verisign.co...  \n",
       "122232  Standard query response 0x0831 ANY isc.org A 1...  \n",
       "\n",
       "[122233 rows x 7 columns]"
      ]
     },
     "execution_count": 2,
     "metadata": {},
     "output_type": "execute_result"
    }
   ],
   "source": [
    "df = pd.read_csv(\"trace-2.csv\")\n",
    "df"
   ]
  },
  {
   "cell_type": "markdown",
   "metadata": {},
   "source": [
    "## 2.1 - Number of Records\n",
    "\n",
    "Looking at the number of rows in our dataframe, we see that the number of records in the entire trace is 122,233."
   ]
  },
  {
   "cell_type": "markdown",
   "metadata": {},
   "source": [
    "## 2.2 - Duration of the Trace\n",
    "\n",
    "We see that the time point of the first record is 0.0 and the last one is 25.3, therefore the duration is 25.3 seconds."
   ]
  },
  {
   "cell_type": "code",
   "execution_count": 3,
   "metadata": {},
   "outputs": [
    {
     "data": {
      "text/html": [
       "<div>\n",
       "<style scoped>\n",
       "    .dataframe tbody tr th:only-of-type {\n",
       "        vertical-align: middle;\n",
       "    }\n",
       "\n",
       "    .dataframe tbody tr th {\n",
       "        vertical-align: top;\n",
       "    }\n",
       "\n",
       "    .dataframe thead th {\n",
       "        text-align: right;\n",
       "    }\n",
       "</style>\n",
       "<table border=\"1\" class=\"dataframe\">\n",
       "  <thead>\n",
       "    <tr style=\"text-align: right;\">\n",
       "      <th></th>\n",
       "      <th>No.</th>\n",
       "      <th>Time</th>\n",
       "      <th>Source</th>\n",
       "      <th>Destination</th>\n",
       "      <th>Protocol</th>\n",
       "      <th>Length</th>\n",
       "      <th>Info</th>\n",
       "    </tr>\n",
       "  </thead>\n",
       "  <tbody>\n",
       "    <tr>\n",
       "      <th>0</th>\n",
       "      <td>1</td>\n",
       "      <td>0.000000</td>\n",
       "      <td>162.8.125.17</td>\n",
       "      <td>172.31.28.132</td>\n",
       "      <td>ICMP</td>\n",
       "      <td>62</td>\n",
       "      <td>Echo (ping) request  id=0x07ae, seq=33434/3955...</td>\n",
       "    </tr>\n",
       "    <tr>\n",
       "      <th>122232</th>\n",
       "      <td>122233</td>\n",
       "      <td>25.343013</td>\n",
       "      <td>178.21.237.130</td>\n",
       "      <td>172.31.28.132</td>\n",
       "      <td>DNS</td>\n",
       "      <td>532</td>\n",
       "      <td>Standard query response 0x0831 ANY isc.org A 1...</td>\n",
       "    </tr>\n",
       "  </tbody>\n",
       "</table>\n",
       "</div>"
      ],
      "text/plain": [
       "           No.       Time          Source    Destination Protocol  Length  \\\n",
       "0            1   0.000000    162.8.125.17  172.31.28.132     ICMP      62   \n",
       "122232  122233  25.343013  178.21.237.130  172.31.28.132      DNS     532   \n",
       "\n",
       "                                                     Info  \n",
       "0       Echo (ping) request  id=0x07ae, seq=33434/3955...  \n",
       "122232  Standard query response 0x0831 ANY isc.org A 1...  "
      ]
     },
     "execution_count": 3,
     "metadata": {},
     "output_type": "execute_result"
    }
   ],
   "source": [
    "df.iloc[[0,-1]]"
   ]
  },
  {
   "cell_type": "markdown",
   "metadata": {},
   "source": [
    "## 2.3 - 3 Packets Which are not Part of the Attack"
   ]
  },
  {
   "cell_type": "markdown",
   "metadata": {},
   "source": [
    "## 2.4 - Characterisitcs of the Attack"
   ]
  },
  {
   "cell_type": "markdown",
   "metadata": {},
   "source": [
    "## 2.5 - "
   ]
  },
  {
   "cell_type": "markdown",
   "metadata": {},
   "source": [
    "## 2.6 - Target"
   ]
  },
  {
   "cell_type": "markdown",
   "metadata": {},
   "source": [
    "Looking at the number of times each ip address appears in the \"Destination\" column, we observe that the target is the ip address \"172.31.28.132\":"
   ]
  },
  {
   "cell_type": "code",
   "execution_count": 4,
   "metadata": {},
   "outputs": [
    {
     "data": {
      "text/plain": [
       "172.31.28.132    120253\n",
       "172.31.0.2          100\n",
       "82.145.62.6          26\n",
       "109.2.223.27         26\n",
       "42.112.208.60        26\n",
       "Name: Destination, dtype: int64"
      ]
     },
     "execution_count": 4,
     "metadata": {},
     "output_type": "execute_result"
    }
   ],
   "source": [
    "df['Destination'].value_counts()[:5]"
   ]
  },
  {
   "cell_type": "markdown",
   "metadata": {},
   "source": [
    "We use the dataframe of the attack from now on for answering the questions:"
   ]
  },
  {
   "cell_type": "code",
   "execution_count": 6,
   "metadata": {},
   "outputs": [
    {
     "data": {
      "text/html": [
       "<div>\n",
       "<style scoped>\n",
       "    .dataframe tbody tr th:only-of-type {\n",
       "        vertical-align: middle;\n",
       "    }\n",
       "\n",
       "    .dataframe tbody tr th {\n",
       "        vertical-align: top;\n",
       "    }\n",
       "\n",
       "    .dataframe thead th {\n",
       "        text-align: right;\n",
       "    }\n",
       "</style>\n",
       "<table border=\"1\" class=\"dataframe\">\n",
       "  <thead>\n",
       "    <tr style=\"text-align: right;\">\n",
       "      <th></th>\n",
       "      <th>No.</th>\n",
       "      <th>Time</th>\n",
       "      <th>Source</th>\n",
       "      <th>Destination</th>\n",
       "      <th>Protocol</th>\n",
       "      <th>Length</th>\n",
       "      <th>Info</th>\n",
       "    </tr>\n",
       "  </thead>\n",
       "  <tbody>\n",
       "    <tr>\n",
       "      <th>0</th>\n",
       "      <td>1</td>\n",
       "      <td>0.000000</td>\n",
       "      <td>162.8.125.17</td>\n",
       "      <td>172.31.28.132</td>\n",
       "      <td>ICMP</td>\n",
       "      <td>62</td>\n",
       "      <td>Echo (ping) request  id=0x07ae, seq=33434/3955...</td>\n",
       "    </tr>\n",
       "    <tr>\n",
       "      <th>4</th>\n",
       "      <td>5</td>\n",
       "      <td>0.122684</td>\n",
       "      <td>172.31.0.2</td>\n",
       "      <td>172.31.28.132</td>\n",
       "      <td>DNS</td>\n",
       "      <td>164</td>\n",
       "      <td>Standard query response 0xb0d5 AAAA ip-172-31-...</td>\n",
       "    </tr>\n",
       "    <tr>\n",
       "      <th>5</th>\n",
       "      <td>6</td>\n",
       "      <td>0.122704</td>\n",
       "      <td>172.31.0.2</td>\n",
       "      <td>172.31.28.132</td>\n",
       "      <td>DNS</td>\n",
       "      <td>119</td>\n",
       "      <td>Standard query response 0x1365 A ip-172-31-28-...</td>\n",
       "    </tr>\n",
       "    <tr>\n",
       "      <th>8</th>\n",
       "      <td>9</td>\n",
       "      <td>0.131178</td>\n",
       "      <td>172.31.0.2</td>\n",
       "      <td>172.31.28.132</td>\n",
       "      <td>DNS</td>\n",
       "      <td>119</td>\n",
       "      <td>Standard query response 0xefec A ip-172-31-28-...</td>\n",
       "    </tr>\n",
       "    <tr>\n",
       "      <th>9</th>\n",
       "      <td>10</td>\n",
       "      <td>0.131193</td>\n",
       "      <td>172.31.0.2</td>\n",
       "      <td>172.31.28.132</td>\n",
       "      <td>DNS</td>\n",
       "      <td>164</td>\n",
       "      <td>Standard query response 0xb4da AAAA ip-172-31-...</td>\n",
       "    </tr>\n",
       "    <tr>\n",
       "      <th>...</th>\n",
       "      <td>...</td>\n",
       "      <td>...</td>\n",
       "      <td>...</td>\n",
       "      <td>...</td>\n",
       "      <td>...</td>\n",
       "      <td>...</td>\n",
       "      <td>...</td>\n",
       "    </tr>\n",
       "    <tr>\n",
       "      <th>122228</th>\n",
       "      <td>122229</td>\n",
       "      <td>25.342655</td>\n",
       "      <td>122.154.73.42</td>\n",
       "      <td>172.31.28.132</td>\n",
       "      <td>DNS</td>\n",
       "      <td>3053</td>\n",
       "      <td>Standard query response 0x7449 ANY nlhosting.n...</td>\n",
       "    </tr>\n",
       "    <tr>\n",
       "      <th>122229</th>\n",
       "      <td>122230</td>\n",
       "      <td>25.342809</td>\n",
       "      <td>121.32.89.198</td>\n",
       "      <td>172.31.28.132</td>\n",
       "      <td>DNS</td>\n",
       "      <td>2496</td>\n",
       "      <td>Standard query response 0x14c6 ANY sandia.gov ...</td>\n",
       "    </tr>\n",
       "    <tr>\n",
       "      <th>122230</th>\n",
       "      <td>122231</td>\n",
       "      <td>25.342933</td>\n",
       "      <td>89.228.8.86</td>\n",
       "      <td>172.31.28.132</td>\n",
       "      <td>DNS</td>\n",
       "      <td>225</td>\n",
       "      <td>Standard query response 0x767e ANY ietf.org NS...</td>\n",
       "    </tr>\n",
       "    <tr>\n",
       "      <th>122231</th>\n",
       "      <td>122232</td>\n",
       "      <td>25.342940</td>\n",
       "      <td>113.161.106.4</td>\n",
       "      <td>172.31.28.132</td>\n",
       "      <td>DNS</td>\n",
       "      <td>638</td>\n",
       "      <td>Standard query response 0x280d ANY verisign.co...</td>\n",
       "    </tr>\n",
       "    <tr>\n",
       "      <th>122232</th>\n",
       "      <td>122233</td>\n",
       "      <td>25.343013</td>\n",
       "      <td>178.21.237.130</td>\n",
       "      <td>172.31.28.132</td>\n",
       "      <td>DNS</td>\n",
       "      <td>532</td>\n",
       "      <td>Standard query response 0x0831 ANY isc.org A 1...</td>\n",
       "    </tr>\n",
       "  </tbody>\n",
       "</table>\n",
       "<p>120253 rows × 7 columns</p>\n",
       "</div>"
      ],
      "text/plain": [
       "           No.       Time          Source    Destination Protocol  Length  \\\n",
       "0            1   0.000000    162.8.125.17  172.31.28.132     ICMP      62   \n",
       "4            5   0.122684      172.31.0.2  172.31.28.132      DNS     164   \n",
       "5            6   0.122704      172.31.0.2  172.31.28.132      DNS     119   \n",
       "8            9   0.131178      172.31.0.2  172.31.28.132      DNS     119   \n",
       "9           10   0.131193      172.31.0.2  172.31.28.132      DNS     164   \n",
       "...        ...        ...             ...            ...      ...     ...   \n",
       "122228  122229  25.342655   122.154.73.42  172.31.28.132      DNS    3053   \n",
       "122229  122230  25.342809   121.32.89.198  172.31.28.132      DNS    2496   \n",
       "122230  122231  25.342933     89.228.8.86  172.31.28.132      DNS     225   \n",
       "122231  122232  25.342940   113.161.106.4  172.31.28.132      DNS     638   \n",
       "122232  122233  25.343013  178.21.237.130  172.31.28.132      DNS     532   \n",
       "\n",
       "                                                     Info  \n",
       "0       Echo (ping) request  id=0x07ae, seq=33434/3955...  \n",
       "4       Standard query response 0xb0d5 AAAA ip-172-31-...  \n",
       "5       Standard query response 0x1365 A ip-172-31-28-...  \n",
       "8       Standard query response 0xefec A ip-172-31-28-...  \n",
       "9       Standard query response 0xb4da AAAA ip-172-31-...  \n",
       "...                                                   ...  \n",
       "122228  Standard query response 0x7449 ANY nlhosting.n...  \n",
       "122229  Standard query response 0x14c6 ANY sandia.gov ...  \n",
       "122230  Standard query response 0x767e ANY ietf.org NS...  \n",
       "122231  Standard query response 0x280d ANY verisign.co...  \n",
       "122232  Standard query response 0x0831 ANY isc.org A 1...  \n",
       "\n",
       "[120253 rows x 7 columns]"
      ]
     },
     "execution_count": 6,
     "metadata": {},
     "output_type": "execute_result"
    }
   ],
   "source": [
    "attack_df = df[df['Destination'] == \"172.31.28.132\"]\n",
    "attack_df"
   ]
  },
  {
   "cell_type": "markdown",
   "metadata": {},
   "source": [
    "## 2.7 - Number of Records in the Attack\n",
    "\n",
    "Looking at the numbers above, we observed that there were 120,253 records belonging to the attack."
   ]
  },
  {
   "cell_type": "markdown",
   "metadata": {},
   "source": [
    "## 2.8 - Unique IPs in the Attack"
   ]
  },
  {
   "cell_type": "markdown",
   "metadata": {},
   "source": [
    "When we selected the records with \"192.168.1.183\" as the target and looked at the Source IPs, we observed that there are 83 unique IP addresses performing the attack."
   ]
  },
  {
   "cell_type": "code",
   "execution_count": 10,
   "metadata": {},
   "outputs": [
    {
     "name": "stdout",
     "output_type": "stream",
     "text": [
      "Unique IPs performing the attack: 83\n",
      "['162.8.125.17' '172.31.0.2' '162.8.125.20' '89.228.8.86' '70.62.123.36'\n",
      " '82.145.62.6' '82.145.62.5' '37.123.96.179' '92.103.90.30' '82.80.26.175'\n",
      " '192.117.105.121' '61.93.9.158' '81.5.178.235' '198.101.213.159'\n",
      " '218.216.183.36' '62.219.152.108' '109.2.223.27' '81.218.145.44'\n",
      " '61.7.231.225' '122.154.73.42' '42.112.208.60' '61.19.78.113'\n",
      " '122.154.238.10' '81.218.188.83' '121.32.89.198' '59.154.53.77'\n",
      " '203.174.167.20' '82.145.62.7' '82.145.62.3' '211.138.248.108'\n",
      " '110.170.116.9' '81.7.86.91' '110.170.116.12' '60.250.159.61'\n",
      " '109.184.1.96' '217.15.140.158' '200.107.235.46' '113.161.106.4'\n",
      " '62.219.141.161' '61.152.126.84' '202.10.92.5' '180.180.126.177'\n",
      " '109.161.52.1' '217.118.186.54' '189.90.244.42' '80.51.214.183'\n",
      " '85.93.44.161' '88.85.171.248' '110.159.221.147' '59.46.49.50'\n",
      " '63.246.239.2' '61.152.126.82' '113.161.106.6' '46.145.104.93'\n",
      " '195.175.90.210' '110.77.140.17' '177.69.215.97' '118.70.197.18'\n",
      " '175.138.61.51' '118.70.197.32' '113.161.106.2' '218.94.74.157'\n",
      " '118.70.197.42' '217.219.122.38' '59.46.49.51' '174.46.39.31'\n",
      " '175.138.67.50' '81.218.147.197' '62.219.116.56' '118.70.197.2'\n",
      " '78.189.16.152' '140.246.17.9' '62.219.208.81' '190.109.221.46'\n",
      " '119.75.11.139' '178.21.237.130' '186.227.165.6' '109.169.45.81'\n",
      " '31.168.112.149' '92.50.0.243' '179.146.137.239' '103.10.230.143'\n",
      " '203.186.108.102']\n"
     ]
    }
   ],
   "source": [
    "print(\"Unique IPs performing the attack: %d\" % len(attack_df['Source'].unique()))\n",
    "print(attack_df['Source'].unique())"
   ]
  },
  {
   "cell_type": "markdown",
   "metadata": {},
   "source": [
    "## 2.9 - Top 3 Sources"
   ]
  },
  {
   "cell_type": "markdown",
   "metadata": {},
   "source": [
    "When we count the number of packages belonging to each source, we see the following list. The top 3 ip addresses are \"37.123.96.179\", \"61.93.9.158\" and \"121.32.89.198\"."
   ]
  },
  {
   "cell_type": "code",
   "execution_count": 11,
   "metadata": {},
   "outputs": [
    {
     "data": {
      "text/plain": [
       "37.123.96.179      11126\n",
       "61.93.9.158         8086\n",
       "121.32.89.198       6261\n",
       "89.228.8.86         4831\n",
       "189.90.244.42       4433\n",
       "                   ...  \n",
       "81.5.178.235           5\n",
       "162.8.125.17           2\n",
       "162.8.125.20           1\n",
       "103.10.230.143         1\n",
       "179.146.137.239        1\n",
       "Name: Source, Length: 83, dtype: int64"
      ]
     },
     "execution_count": 11,
     "metadata": {},
     "output_type": "execute_result"
    }
   ],
   "source": [
    "attack_df['Source'].value_counts()"
   ]
  },
  {
   "cell_type": "markdown",
   "metadata": {},
   "source": [
    "## 2.10 Geolocation of Top 3 Sources\n",
    "\n",
    "For geolocating the ip addresses, we used the [WhatIsMyIp.com](https://www.whatismyip.com/ip-address-lookup/) website. We found the results in the following table:\n",
    "\n",
    "| IP | ASN | City | State/Region | Country Code | Postal Code | ISP | Time Zone |\n",
    "| -  | -   | -    | -            | -            | -           | -   | -         |\n",
    "| 37.123.96.179 | 57844 | Manisa | Manisa | Turkey | 45000 | SPDNet Telekomunikasyon Hizmetleri Bilgi Teknolojileri Taahhut Sanayi Ve Ticaret A.S. | +03:00 |\n",
    "| 61.93.9.158 | 9269 | Honk Kong | Honk Kong | Honk Kong | - | HKBN - Corporate User | +08:00 |\n",
    "| 121.32.89.198 | 4134 | Guangzhou | Guangdong | China | 510140 |  ChinaNet Guangdong Province Network | +08:00 |\n"
   ]
  },
  {
   "cell_type": "markdown",
   "metadata": {},
   "source": [
    "## 2.11 "
   ]
  },
  {
   "cell_type": "markdown",
   "metadata": {},
   "source": [
    "## 2.12"
   ]
  },
  {
   "cell_type": "markdown",
   "metadata": {},
   "source": [
    "## 2.13"
   ]
  },
  {
   "cell_type": "markdown",
   "metadata": {},
   "source": [
    "## 2.14 - Data Rate Peak\n",
    "\n",
    "To calculate the data rate over time, we can use the \"Time\" column of our dataset. We can use [the moving average](https://en.wikipedia.org/wiki/Moving_average) approach. Basically we will have a window of time and we will calculate the data rate within the window and we will keep sliding this window until we reach the end of the attack. You can see the plot down below:"
   ]
  },
  {
   "cell_type": "code",
   "execution_count": 44,
   "metadata": {},
   "outputs": [
    {
     "data": {
      "image/png": "[encoded data removed]",
      "text/plain": [
       "<Figure size 1440x360 with 1 Axes>"
      ]
     },
     "metadata": {
      "needs_background": "light"
     },
     "output_type": "display_data"
    },
    {
     "name": "stdout",
     "output_type": "stream",
     "text": [
      "Highest rate: 14.8747\n"
     ]
    }
   ],
   "source": [
    "n_steps = 2000  # resolution\n",
    "padding = 1     # number of seconds to show in the plot before and after the attack \n",
    "\n",
    "cur_time = - padding\n",
    "final_time = attack_df.iloc[120252]['Time'] + 1 + padding\n",
    "window_size = (final_time - cur_time)/n_steps\n",
    "\n",
    "time_steps   = []\n",
    "rates        = []\n",
    "highest_rate = -1\n",
    "\n",
    "while cur_time < final_time:\n",
    "    window_df = attack_df[(cur_time - 1 <= attack_df['Time']) & (attack_df['Time'] <= cur_time)]\n",
    "    rate      = window_df['Length'].sum() / 1e6\n",
    "\n",
    "    time_steps.append(cur_time)\n",
    "    rates.append(rate)\n",
    "\n",
    "    if rate > highest_rate:\n",
    "        highest_rate = rate\n",
    "\n",
    "    cur_time += window_size\n",
    "\n",
    "# Plotting\n",
    "plt.figure(figsize=(20, 5))\n",
    "plt.plot(time_steps, rates)\n",
    "plt.title(\"Data Rate Over Time\")\n",
    "plt.ylabel(\"Data Rate (Mbits)\")\n",
    "plt.xlabel(\"Time\")\n",
    "plt.show()\n",
    "\n",
    "print(\"Highest rate: %.4f\" % highest_rate)"
   ]
  },
  {
   "cell_type": "markdown",
   "metadata": {},
   "source": [
    "We concluded that the highest Mbit rate was 14.8747"
   ]
  },
  {
   "cell_type": "markdown",
   "metadata": {},
   "source": [
    "## 2.16 - Packet Lenght Distribution"
   ]
  },
  {
   "cell_type": "markdown",
   "metadata": {},
   "source": [
    "When we plot a pie chart to see the distribution of the packet lengths in the attack, we observed that all the packages in the attack have the same size, 74."
   ]
  },
  {
   "cell_type": "code",
   "execution_count": 45,
   "metadata": {},
   "outputs": [
    {
     "data": {
      "text/plain": [
       "<matplotlib.axes._subplots.AxesSubplot at 0x250654505c8>"
      ]
     },
     "execution_count": 45,
     "metadata": {},
     "output_type": "execute_result"
    },
    {
     "data": {
      "image/png": "[encoded data removed]",
      "text/plain": [
       "<Figure size 432x288 with 1 Axes>"
      ]
     },
     "metadata": {},
     "output_type": "display_data"
    }
   ],
   "source": [
    "attack_df['Length'].value_counts().plot.pie()"
   ]
  },
  {
   "cell_type": "markdown",
   "metadata": {},
   "source": [
    "# 3. Conclusion"
   ]
  },
  {
   "cell_type": "markdown",
   "metadata": {},
   "source": []
  }
 ],
 "metadata": {
  "interpreter": {
   "hash": "473b09b14929ec2d62fd15ed2d86bed0025b0356f60f179d534857bf2aca0ec5"
  },
  "kernelspec": {
   "display_name": "Python 3.7.10 64-bit ('tensor': conda)",
   "name": "python3"
  },
  "language_info": {
   "codemirror_mode": {
    "name": "ipython",
    "version": 3
   },
   "file_extension": ".py",
   "mimetype": "text/x-python",
   "name": "python",
   "nbconvert_exporter": "python",
   "pygments_lexer": "ipython3",
   "version": "3.7.10"
  },
  "orig_nbformat": 4
 },
 "nbformat": 4,
 "nbformat_minor": 2
}

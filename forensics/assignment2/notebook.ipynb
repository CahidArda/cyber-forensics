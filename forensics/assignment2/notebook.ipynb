{
 "cells": [
  {
   "cell_type": "code",
   "execution_count": 3,
   "source": [
    "import pandas as pd"
   ],
   "outputs": [],
   "metadata": {}
  },
  {
   "cell_type": "markdown",
   "source": [
    "# Introduction to Digital Forensics - Assignment 2\r\n",
    "\r\n",
    "Contributors (Project group 2):\r\n",
    "- Carlos de Bourbon de Parme\r\n",
    "- Vera Schockemöhle\r\n",
    "- Floor Schutrups\r\n",
    "- Jelle Hulter\r\n",
    "- Nora Yigit\r\n",
    "- Arda Öz"
   ],
   "metadata": {}
  },
  {
   "cell_type": "markdown",
   "source": [
    "# 1. Introduction/Motivation"
   ],
   "metadata": {}
  },
  {
   "cell_type": "markdown",
   "source": [
    "# 2. Methodology\r\n",
    "\r\n",
    "Answers of the questions are organized such that each subsection of the methodology section is answer to a question with the same number.\r\n",
    "\r\n",
    "We begin our investigation by exporting the wireshark trace as a csv and importing it using pandas:"
   ],
   "metadata": {}
  },
  {
   "cell_type": "code",
   "execution_count": 4,
   "source": [
    "df = pd.read_csv(\"trace.csv\")\r\n",
    "df"
   ],
   "outputs": [
    {
     "output_type": "execute_result",
     "data": {
      "text/html": [
       "<div>\n",
       "<style scoped>\n",
       "    .dataframe tbody tr th:only-of-type {\n",
       "        vertical-align: middle;\n",
       "    }\n",
       "\n",
       "    .dataframe tbody tr th {\n",
       "        vertical-align: top;\n",
       "    }\n",
       "\n",
       "    .dataframe thead th {\n",
       "        text-align: right;\n",
       "    }\n",
       "</style>\n",
       "<table border=\"1\" class=\"dataframe\">\n",
       "  <thead>\n",
       "    <tr style=\"text-align: right;\">\n",
       "      <th></th>\n",
       "      <th>No.</th>\n",
       "      <th>Time</th>\n",
       "      <th>Source</th>\n",
       "      <th>Destination</th>\n",
       "      <th>Protocol</th>\n",
       "      <th>Length</th>\n",
       "      <th>Info</th>\n",
       "    </tr>\n",
       "  </thead>\n",
       "  <tbody>\n",
       "    <tr>\n",
       "      <th>0</th>\n",
       "      <td>1</td>\n",
       "      <td>0.000000</td>\n",
       "      <td>fe80::a00:27ff:fe43:73bc</td>\n",
       "      <td>ff02::16</td>\n",
       "      <td>ICMPv6</td>\n",
       "      <td>90</td>\n",
       "      <td>Multicast Listener Report Message v2</td>\n",
       "    </tr>\n",
       "    <tr>\n",
       "      <th>1</th>\n",
       "      <td>2</td>\n",
       "      <td>0.005827</td>\n",
       "      <td>0.0.0.0</td>\n",
       "      <td>255.255.255.255</td>\n",
       "      <td>DHCP</td>\n",
       "      <td>330</td>\n",
       "      <td>DHCP Request  - Transaction ID 0x79e3d163</td>\n",
       "    </tr>\n",
       "    <tr>\n",
       "      <th>2</th>\n",
       "      <td>3</td>\n",
       "      <td>0.006234</td>\n",
       "      <td>10.0.2.2</td>\n",
       "      <td>10.0.2.15</td>\n",
       "      <td>DHCP</td>\n",
       "      <td>590</td>\n",
       "      <td>DHCP ACK      - Transaction ID 0x79e3d163</td>\n",
       "    </tr>\n",
       "    <tr>\n",
       "      <th>3</th>\n",
       "      <td>4</td>\n",
       "      <td>0.006299</td>\n",
       "      <td>PcsCompu_43:73:bc</td>\n",
       "      <td>Broadcast</td>\n",
       "      <td>ARP</td>\n",
       "      <td>42</td>\n",
       "      <td>Who has 10.0.2.2? Tell 10.0.2.15</td>\n",
       "    </tr>\n",
       "    <tr>\n",
       "      <th>4</th>\n",
       "      <td>5</td>\n",
       "      <td>0.006494</td>\n",
       "      <td>RealtekU_12:35:02</td>\n",
       "      <td>PcsCompu_43:73:bc</td>\n",
       "      <td>ARP</td>\n",
       "      <td>60</td>\n",
       "      <td>10.0.2.2 is at 52:54:00:12:35:02</td>\n",
       "    </tr>\n",
       "    <tr>\n",
       "      <th>...</th>\n",
       "      <td>...</td>\n",
       "      <td>...</td>\n",
       "      <td>...</td>\n",
       "      <td>...</td>\n",
       "      <td>...</td>\n",
       "      <td>...</td>\n",
       "      <td>...</td>\n",
       "    </tr>\n",
       "    <tr>\n",
       "      <th>1800</th>\n",
       "      <td>1801</td>\n",
       "      <td>227.637321</td>\n",
       "      <td>10.0.2.15</td>\n",
       "      <td>192.168.1.183</td>\n",
       "      <td>TCP</td>\n",
       "      <td>74</td>\n",
       "      <td>[TCP Retransmission] 50556  &gt;  80 [SYN] Seq=0 ...</td>\n",
       "    </tr>\n",
       "    <tr>\n",
       "      <th>1801</th>\n",
       "      <td>1802</td>\n",
       "      <td>227.637322</td>\n",
       "      <td>10.0.2.15</td>\n",
       "      <td>192.168.1.183</td>\n",
       "      <td>TCP</td>\n",
       "      <td>74</td>\n",
       "      <td>[TCP Retransmission] 50558  &gt;  80 [SYN] Seq=0 ...</td>\n",
       "    </tr>\n",
       "    <tr>\n",
       "      <th>1802</th>\n",
       "      <td>1803</td>\n",
       "      <td>227.637324</td>\n",
       "      <td>10.0.2.15</td>\n",
       "      <td>192.168.1.183</td>\n",
       "      <td>TCP</td>\n",
       "      <td>74</td>\n",
       "      <td>[TCP Retransmission] 50560  &gt;  80 [SYN] Seq=0 ...</td>\n",
       "    </tr>\n",
       "    <tr>\n",
       "      <th>1803</th>\n",
       "      <td>1804</td>\n",
       "      <td>227.637325</td>\n",
       "      <td>10.0.2.15</td>\n",
       "      <td>192.168.1.183</td>\n",
       "      <td>TCP</td>\n",
       "      <td>74</td>\n",
       "      <td>[TCP Retransmission] 50562  &gt;  80 [SYN] Seq=0 ...</td>\n",
       "    </tr>\n",
       "    <tr>\n",
       "      <th>1804</th>\n",
       "      <td>1805</td>\n",
       "      <td>227.637327</td>\n",
       "      <td>10.0.2.15</td>\n",
       "      <td>192.168.1.183</td>\n",
       "      <td>TCP</td>\n",
       "      <td>74</td>\n",
       "      <td>[TCP Retransmission] 50564  &gt;  80 [SYN] Seq=0 ...</td>\n",
       "    </tr>\n",
       "  </tbody>\n",
       "</table>\n",
       "<p>1805 rows × 7 columns</p>\n",
       "</div>"
      ],
      "text/plain": [
       "       No.        Time                    Source        Destination Protocol  \\\n",
       "0        1    0.000000  fe80::a00:27ff:fe43:73bc           ff02::16   ICMPv6   \n",
       "1        2    0.005827                   0.0.0.0    255.255.255.255     DHCP   \n",
       "2        3    0.006234                  10.0.2.2          10.0.2.15     DHCP   \n",
       "3        4    0.006299         PcsCompu_43:73:bc          Broadcast      ARP   \n",
       "4        5    0.006494         RealtekU_12:35:02  PcsCompu_43:73:bc      ARP   \n",
       "...    ...         ...                       ...                ...      ...   \n",
       "1800  1801  227.637321                 10.0.2.15      192.168.1.183      TCP   \n",
       "1801  1802  227.637322                 10.0.2.15      192.168.1.183      TCP   \n",
       "1802  1803  227.637324                 10.0.2.15      192.168.1.183      TCP   \n",
       "1803  1804  227.637325                 10.0.2.15      192.168.1.183      TCP   \n",
       "1804  1805  227.637327                 10.0.2.15      192.168.1.183      TCP   \n",
       "\n",
       "      Length                                               Info  \n",
       "0         90               Multicast Listener Report Message v2  \n",
       "1        330          DHCP Request  - Transaction ID 0x79e3d163  \n",
       "2        590          DHCP ACK      - Transaction ID 0x79e3d163  \n",
       "3         42                   Who has 10.0.2.2? Tell 10.0.2.15  \n",
       "4         60                   10.0.2.2 is at 52:54:00:12:35:02  \n",
       "...      ...                                                ...  \n",
       "1800      74  [TCP Retransmission] 50556  >  80 [SYN] Seq=0 ...  \n",
       "1801      74  [TCP Retransmission] 50558  >  80 [SYN] Seq=0 ...  \n",
       "1802      74  [TCP Retransmission] 50560  >  80 [SYN] Seq=0 ...  \n",
       "1803      74  [TCP Retransmission] 50562  >  80 [SYN] Seq=0 ...  \n",
       "1804      74  [TCP Retransmission] 50564  >  80 [SYN] Seq=0 ...  \n",
       "\n",
       "[1805 rows x 7 columns]"
      ]
     },
     "metadata": {},
     "execution_count": 4
    }
   ],
   "metadata": {}
  },
  {
   "cell_type": "markdown",
   "source": [
    "## 2.1 - Number of Records\r\n",
    "\r\n",
    "Looking at the number of rows in our dataframe, we see that the number of records in the entire trace is 1805."
   ],
   "metadata": {}
  },
  {
   "cell_type": "markdown",
   "source": [
    "## 2.2 - Duration of the Trace\r\n",
    "\r\n",
    "We see that the time point of the first record is 0.0 and the last one is 227.6, therefore the duration is 227.6 seconds."
   ],
   "metadata": {}
  },
  {
   "cell_type": "code",
   "execution_count": 5,
   "source": [
    "df.iloc[[0,-1]]"
   ],
   "outputs": [
    {
     "output_type": "execute_result",
     "data": {
      "text/html": [
       "<div>\n",
       "<style scoped>\n",
       "    .dataframe tbody tr th:only-of-type {\n",
       "        vertical-align: middle;\n",
       "    }\n",
       "\n",
       "    .dataframe tbody tr th {\n",
       "        vertical-align: top;\n",
       "    }\n",
       "\n",
       "    .dataframe thead th {\n",
       "        text-align: right;\n",
       "    }\n",
       "</style>\n",
       "<table border=\"1\" class=\"dataframe\">\n",
       "  <thead>\n",
       "    <tr style=\"text-align: right;\">\n",
       "      <th></th>\n",
       "      <th>No.</th>\n",
       "      <th>Time</th>\n",
       "      <th>Source</th>\n",
       "      <th>Destination</th>\n",
       "      <th>Protocol</th>\n",
       "      <th>Length</th>\n",
       "      <th>Info</th>\n",
       "    </tr>\n",
       "  </thead>\n",
       "  <tbody>\n",
       "    <tr>\n",
       "      <th>0</th>\n",
       "      <td>1</td>\n",
       "      <td>0.000000</td>\n",
       "      <td>fe80::a00:27ff:fe43:73bc</td>\n",
       "      <td>ff02::16</td>\n",
       "      <td>ICMPv6</td>\n",
       "      <td>90</td>\n",
       "      <td>Multicast Listener Report Message v2</td>\n",
       "    </tr>\n",
       "    <tr>\n",
       "      <th>1804</th>\n",
       "      <td>1805</td>\n",
       "      <td>227.637327</td>\n",
       "      <td>10.0.2.15</td>\n",
       "      <td>192.168.1.183</td>\n",
       "      <td>TCP</td>\n",
       "      <td>74</td>\n",
       "      <td>[TCP Retransmission] 50564  &gt;  80 [SYN] Seq=0 ...</td>\n",
       "    </tr>\n",
       "  </tbody>\n",
       "</table>\n",
       "</div>"
      ],
      "text/plain": [
       "       No.        Time                    Source    Destination Protocol  \\\n",
       "0        1    0.000000  fe80::a00:27ff:fe43:73bc       ff02::16   ICMPv6   \n",
       "1804  1805  227.637327                 10.0.2.15  192.168.1.183      TCP   \n",
       "\n",
       "      Length                                               Info  \n",
       "0         90               Multicast Listener Report Message v2  \n",
       "1804      74  [TCP Retransmission] 50564  >  80 [SYN] Seq=0 ...  "
      ]
     },
     "metadata": {},
     "execution_count": 5
    }
   ],
   "metadata": {}
  },
  {
   "cell_type": "markdown",
   "source": [
    "## 2.3 - 3 Packets Which are not Part of the Attack"
   ],
   "metadata": {}
  },
  {
   "cell_type": "markdown",
   "source": [
    "## 2.4 - Characterisitcs of the Attack"
   ],
   "metadata": {}
  },
  {
   "cell_type": "markdown",
   "source": [
    "## 2.5 - "
   ],
   "metadata": {}
  },
  {
   "cell_type": "markdown",
   "source": [
    "## 2.6 - Target"
   ],
   "metadata": {}
  },
  {
   "cell_type": "markdown",
   "source": [
    "Looking at the number of times each ip address appears in the \"Destination\" column, we observe that the target is the ip address \"192.168.1.183\":"
   ],
   "metadata": {}
  },
  {
   "cell_type": "code",
   "execution_count": 7,
   "source": [
    "df['Destination'].value_counts()[:5]"
   ],
   "outputs": [
    {
     "output_type": "execute_result",
     "data": {
      "text/plain": [
       "192.168.1.183      1000\n",
       "10.0.2.15           415\n",
       "142.250.179.132     159\n",
       "142.250.179.182      28\n",
       "172.217.168.194      23\n",
       "Name: Destination, dtype: int64"
      ]
     },
     "metadata": {},
     "execution_count": 7
    }
   ],
   "metadata": {}
  },
  {
   "cell_type": "markdown",
   "source": [
    "## 2.7 - Number of Records in the Attack\r\n",
    "\r\n",
    "Looking at the numbers above, we observed that there were 1000 records belonging to the attack."
   ],
   "metadata": {}
  },
  {
   "cell_type": "markdown",
   "source": [
    "## 2.8 - Unique IPs in the Attack"
   ],
   "metadata": {}
  },
  {
   "cell_type": "markdown",
   "source": [
    "When we selected the records with \"192.168.1.183\" as the target and looked at the Source IPs, we observed that there is only one IP address. That IP address is '10.0.2.15':"
   ],
   "metadata": {}
  },
  {
   "cell_type": "code",
   "execution_count": 26,
   "source": [
    "attack_df = df[df['Destination'] == \"192.168.1.183\"]\r\n",
    "attack_df['Source'].unique()"
   ],
   "outputs": [
    {
     "output_type": "execute_result",
     "data": {
      "text/plain": [
       "array(['10.0.2.15'], dtype=object)"
      ]
     },
     "metadata": {},
     "execution_count": 26
    }
   ],
   "metadata": {}
  },
  {
   "cell_type": "markdown",
   "source": [
    "## 2.16 - Packet Lenght Distribution"
   ],
   "metadata": {}
  },
  {
   "cell_type": "markdown",
   "source": [
    "When we plot a pie chart to see the distribution of the packet lengths in the attack, we observed that all the packages in the attack have the same size, 74."
   ],
   "metadata": {}
  },
  {
   "cell_type": "code",
   "execution_count": 29,
   "source": [
    "attack_df['Length'].value_counts().plot.pie()"
   ],
   "outputs": [
    {
     "output_type": "execute_result",
     "data": {
      "text/plain": [
       "<matplotlib.axes._subplots.AxesSubplot at 0x217766fb348>"
      ]
     },
     "metadata": {},
     "execution_count": 29
    },
    {
     "output_type": "display_data",
     "data": {
      "image/png": "[encoded data removed]",
      "text/plain": [
       "<Figure size 432x288 with 1 Axes>"
      ]
     },
     "metadata": {}
    }
   ],
   "metadata": {}
  },
  {
   "cell_type": "markdown",
   "source": [
    "# 3. Conclusion"
   ],
   "metadata": {}
  },
  {
   "cell_type": "markdown",
   "source": [],
   "metadata": {}
  }
 ],
 "metadata": {
  "orig_nbformat": 4,
  "language_info": {
   "name": "python",
   "version": "3.7.10",
   "mimetype": "text/x-python",
   "codemirror_mode": {
    "name": "ipython",
    "version": 3
   },
   "pygments_lexer": "ipython3",
   "nbconvert_exporter": "python",
   "file_extension": ".py"
  },
  "kernelspec": {
   "name": "python3",
   "display_name": "Python 3.7.10 64-bit ('tensor': conda)"
  },
  "interpreter": {
   "hash": "473b09b14929ec2d62fd15ed2d86bed0025b0356f60f179d534857bf2aca0ec5"
  }
 },
 "nbformat": 4,
 "nbformat_minor": 2
}
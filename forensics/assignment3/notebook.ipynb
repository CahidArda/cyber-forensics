{
 "cells": [
  {
   "cell_type": "code",
   "execution_count": 1,
   "id": "6ea6717a",
   "metadata": {},
   "outputs": [],
   "source": [
    "import pandas as pd\n",
    "import matplotlib.pyplot as plt\n",
    "import numpy as np\n",
    "import datetime as datetime"
   ]
  },
  {
   "cell_type": "markdown",
   "id": "3f41b92c",
   "metadata": {},
   "source": [
    "# Introduction to Digital Forensics - Assignment 3\n",
    "\n",
    "Contributors (Project group 2):\n",
    "- Carlos de Bourbon de Parme\n",
    "- Vera Schockemöhle\n",
    "- Floor Schutrups\n",
    "- Jelle Hulter\n",
    "- Nora Yigit\n",
    "- Arda Öz"
   ]
  },
  {
   "cell_type": "markdown",
   "id": "edbf1785",
   "metadata": {},
   "source": [
    "# 1. Introduction/Motivation\n",
    "For this assignment, we have first read the two articles which were given to us from Brian Krebs. After that, we inspected the Excel file which was posted on Canvas. In this file, the `attacks` table from the database of TWBooter could be found. During this exercise, we would like to know how many attacks were performed and how many unique customers used this booter. Also, we would like to perform further analysis of this dataset.\n",
    "\n",
    "# 2. Methodology\n",
    "\n",
    "To start, we have converted the Excel file to a CSV. Then, we fixed the \"victim\" column by replacing all commas with a dot, because many records were formatted wrongly."
   ]
  },
  {
   "cell_type": "code",
   "execution_count": 2,
   "id": "0c24428f",
   "metadata": {},
   "outputs": [
    {
     "data": {
      "text/html": [
       "<div>\n",
       "<style scoped>\n",
       "    .dataframe tbody tr th:only-of-type {\n",
       "        vertical-align: middle;\n",
       "    }\n",
       "\n",
       "    .dataframe tbody tr th {\n",
       "        vertical-align: top;\n",
       "    }\n",
       "\n",
       "    .dataframe thead th {\n",
       "        text-align: right;\n",
       "    }\n",
       "</style>\n",
       "<table border=\"1\" class=\"dataframe\">\n",
       "  <thead>\n",
       "    <tr style=\"text-align: right;\">\n",
       "      <th></th>\n",
       "      <th>id</th>\n",
       "      <th>processid</th>\n",
       "      <th>victim</th>\n",
       "      <th>port_service`_type</th>\n",
       "      <th>type</th>\n",
       "      <th>duration</th>\n",
       "      <th>time</th>\n",
       "      <th>stopped</th>\n",
       "      <th>client_attacker</th>\n",
       "      <th>server_used_in_th_attack</th>\n",
       "    </tr>\n",
       "  </thead>\n",
       "  <tbody>\n",
       "    <tr>\n",
       "      <th>0</th>\n",
       "      <td>1</td>\n",
       "      <td>5672</td>\n",
       "      <td>91.214.20.52</td>\n",
       "      <td>80</td>\n",
       "      <td>ESSYN</td>\n",
       "      <td>33</td>\n",
       "      <td>1358989954</td>\n",
       "      <td>1</td>\n",
       "      <td>1</td>\n",
       "      <td>94.102.49.76</td>\n",
       "    </tr>\n",
       "    <tr>\n",
       "      <th>1</th>\n",
       "      <td>2</td>\n",
       "      <td>29065</td>\n",
       "      <td>91.214.20.52</td>\n",
       "      <td>80</td>\n",
       "      <td>UDP</td>\n",
       "      <td>1783</td>\n",
       "      <td>1358990329</td>\n",
       "      <td>1</td>\n",
       "      <td>1</td>\n",
       "      <td>93.174.93.30</td>\n",
       "    </tr>\n",
       "    <tr>\n",
       "      <th>2</th>\n",
       "      <td>3</td>\n",
       "      <td>23005</td>\n",
       "      <td>78.31.8.124</td>\n",
       "      <td>80</td>\n",
       "      <td>ESSYN</td>\n",
       "      <td>393</td>\n",
       "      <td>1358991360</td>\n",
       "      <td>0</td>\n",
       "      <td>1</td>\n",
       "      <td>89.248.172.97</td>\n",
       "    </tr>\n",
       "    <tr>\n",
       "      <th>3</th>\n",
       "      <td>4</td>\n",
       "      <td>29411</td>\n",
       "      <td>199.204.44.188</td>\n",
       "      <td>80</td>\n",
       "      <td>ESSYN</td>\n",
       "      <td>60</td>\n",
       "      <td>1358995416</td>\n",
       "      <td>0</td>\n",
       "      <td>4</td>\n",
       "      <td>93.174.93.30</td>\n",
       "    </tr>\n",
       "    <tr>\n",
       "      <th>4</th>\n",
       "      <td>5</td>\n",
       "      <td>19298</td>\n",
       "      <td>http://chrome-mods.com</td>\n",
       "      <td>80</td>\n",
       "      <td>RUDY</td>\n",
       "      <td>50000</td>\n",
       "      <td>1358995471</td>\n",
       "      <td>1</td>\n",
       "      <td>3</td>\n",
       "      <td>72.9.144.80</td>\n",
       "    </tr>\n",
       "    <tr>\n",
       "      <th>...</th>\n",
       "      <td>...</td>\n",
       "      <td>...</td>\n",
       "      <td>...</td>\n",
       "      <td>...</td>\n",
       "      <td>...</td>\n",
       "      <td>...</td>\n",
       "      <td>...</td>\n",
       "      <td>...</td>\n",
       "      <td>...</td>\n",
       "      <td>...</td>\n",
       "    </tr>\n",
       "    <tr>\n",
       "      <th>48768</th>\n",
       "      <td>48840</td>\n",
       "      <td>15874|1992|28878|32327</td>\n",
       "      <td>109.234.152.119</td>\n",
       "      <td>1973</td>\n",
       "      <td>ESSYN</td>\n",
       "      <td>300</td>\n",
       "      <td>1363351101</td>\n",
       "      <td>0</td>\n",
       "      <td>258</td>\n",
       "      <td>94.102.49.79|94.102.51.252|89.248.160.146|89.2...</td>\n",
       "    </tr>\n",
       "    <tr>\n",
       "      <th>48769</th>\n",
       "      <td>48841</td>\n",
       "      <td>15022|19087|28887</td>\n",
       "      <td>94.242.205.227</td>\n",
       "      <td>80</td>\n",
       "      <td>SOURCE</td>\n",
       "      <td>65</td>\n",
       "      <td>1363351473</td>\n",
       "      <td>1</td>\n",
       "      <td>261</td>\n",
       "      <td>72.9.144.80|67.222.156.241|89.248.160.146</td>\n",
       "    </tr>\n",
       "    <tr>\n",
       "      <th>48770</th>\n",
       "      <td>48842</td>\n",
       "      <td>15026|19091|28896</td>\n",
       "      <td>http://94.242.205.227</td>\n",
       "      <td>80</td>\n",
       "      <td>ARME</td>\n",
       "      <td>65</td>\n",
       "      <td>1363351493</td>\n",
       "      <td>1</td>\n",
       "      <td>261</td>\n",
       "      <td>72.9.144.80|67.222.156.241|89.248.160.146</td>\n",
       "    </tr>\n",
       "    <tr>\n",
       "      <th>48771</th>\n",
       "      <td>48843</td>\n",
       "      <td>15898|3409|32693|2010</td>\n",
       "      <td>http://94.242.205.227</td>\n",
       "      <td>80</td>\n",
       "      <td>ESSYN</td>\n",
       "      <td>65</td>\n",
       "      <td>1363351507</td>\n",
       "      <td>1</td>\n",
       "      <td>261</td>\n",
       "      <td>94.102.49.79|89.248.172.96|89.248.162.242|94.1...</td>\n",
       "    </tr>\n",
       "    <tr>\n",
       "      <th>48772</th>\n",
       "      <td>48844</td>\n",
       "      <td>15907|3418|32702|20944</td>\n",
       "      <td>94.242.205.227</td>\n",
       "      <td>80</td>\n",
       "      <td>ESSYN</td>\n",
       "      <td>65</td>\n",
       "      <td>1363351516</td>\n",
       "      <td>0</td>\n",
       "      <td>261</td>\n",
       "      <td>94.102.49.79|89.248.172.96|89.248.162.242|89.2...</td>\n",
       "    </tr>\n",
       "  </tbody>\n",
       "</table>\n",
       "<p>48773 rows × 10 columns</p>\n",
       "</div>"
      ],
      "text/plain": [
       "          id               processid                  victim  \\\n",
       "0          1                    5672            91.214.20.52   \n",
       "1          2                   29065            91.214.20.52   \n",
       "2          3                   23005             78.31.8.124   \n",
       "3          4                   29411          199.204.44.188   \n",
       "4          5                   19298  http://chrome-mods.com   \n",
       "...      ...                     ...                     ...   \n",
       "48768  48840  15874|1992|28878|32327         109.234.152.119   \n",
       "48769  48841       15022|19087|28887          94.242.205.227   \n",
       "48770  48842       15026|19091|28896   http://94.242.205.227   \n",
       "48771  48843   15898|3409|32693|2010   http://94.242.205.227   \n",
       "48772  48844  15907|3418|32702|20944          94.242.205.227   \n",
       "\n",
       "       port_service`_type    type  duration        time  stopped  \\\n",
       "0                      80   ESSYN        33  1358989954        1   \n",
       "1                      80     UDP      1783  1358990329        1   \n",
       "2                      80   ESSYN       393  1358991360        0   \n",
       "3                      80   ESSYN        60  1358995416        0   \n",
       "4                      80    RUDY     50000  1358995471        1   \n",
       "...                   ...     ...       ...         ...      ...   \n",
       "48768                1973   ESSYN       300  1363351101        0   \n",
       "48769                  80  SOURCE        65  1363351473        1   \n",
       "48770                  80    ARME        65  1363351493        1   \n",
       "48771                  80   ESSYN        65  1363351507        1   \n",
       "48772                  80   ESSYN        65  1363351516        0   \n",
       "\n",
       "       client_attacker                           server_used_in_th_attack  \n",
       "0                    1                                       94.102.49.76  \n",
       "1                    1                                       93.174.93.30  \n",
       "2                    1                                      89.248.172.97  \n",
       "3                    4                                       93.174.93.30  \n",
       "4                    3                                        72.9.144.80  \n",
       "...                ...                                                ...  \n",
       "48768              258  94.102.49.79|94.102.51.252|89.248.160.146|89.2...  \n",
       "48769              261          72.9.144.80|67.222.156.241|89.248.160.146  \n",
       "48770              261          72.9.144.80|67.222.156.241|89.248.160.146  \n",
       "48771              261  94.102.49.79|89.248.172.96|89.248.162.242|94.1...  \n",
       "48772              261  94.102.49.79|89.248.172.96|89.248.162.242|89.2...  \n",
       "\n",
       "[48773 rows x 10 columns]"
      ]
     },
     "execution_count": 2,
     "metadata": {},
     "output_type": "execute_result"
    }
   ],
   "source": [
    "df = pd.read_csv(\"booter.csv\", delimiter=';')\n",
    "df['victim'] = df['victim'].str.replace(',', '.')\n",
    "df"
   ]
  },
  {
   "cell_type": "markdown",
   "id": "c3693ceb",
   "metadata": {},
   "source": [
    "## 1. The total number of attack records?\n"
   ]
  },
  {
   "cell_type": "code",
   "execution_count": 3,
   "id": "1587a132",
   "metadata": {},
   "outputs": [
    {
     "data": {
      "text/plain": [
       "48773"
      ]
     },
     "execution_count": 3,
     "metadata": {},
     "output_type": "execute_result"
    }
   ],
   "source": [
    "len(df)"
   ]
  },
  {
   "cell_type": "markdown",
   "id": "2e39ea68",
   "metadata": {},
   "source": [
    "## 2. Number of unique users?"
   ]
  },
  {
   "cell_type": "code",
   "execution_count": 4,
   "id": "7c04931f",
   "metadata": {},
   "outputs": [
    {
     "data": {
      "text/plain": [
       "277"
      ]
     },
     "execution_count": 4,
     "metadata": {},
     "output_type": "execute_result"
    }
   ],
   "source": [
    "len(df['client_attacker'].unique())"
   ]
  },
  {
   "cell_type": "markdown",
   "id": "9d8ec8d1",
   "metadata": {},
   "source": [
    "## 3. Top 10 victim IP addresses ?"
   ]
  },
  {
   "cell_type": "code",
   "execution_count": 5,
   "id": "e5040715",
   "metadata": {},
   "outputs": [
    {
     "data": {
      "text/plain": [
       "176.31.90.154    280\n",
       "72.9.144.6       267\n",
       "198.1.122.66     198\n",
       "Name: victim, dtype: int64"
      ]
     },
     "execution_count": 5,
     "metadata": {},
     "output_type": "execute_result"
    }
   ],
   "source": [
    "is_ip = df['victim'].str.match(\"^\\d{1,3}\\.\\d{1,3}\\.\\d{1,3}\\.\\d{1,3}$\")\n",
    "ips = df[is_ip]\n",
    "ips['victim'].value_counts().head(3)"
   ]
  },
  {
   "cell_type": "markdown",
   "id": "1ddc5e56",
   "metadata": {},
   "source": [
    "## 4. Top 10 victim domain names?"
   ]
  },
  {
   "cell_type": "code",
   "execution_count": 6,
   "id": "4730063e",
   "metadata": {},
   "outputs": [
    {
     "data": {
      "text/plain": [
       "http://87.106.136.156     1106\n",
       "http://212.7.214.197       798\n",
       "http://www.relog.co.il     635\n",
       "Name: victim, dtype: int64"
      ]
     },
     "execution_count": 6,
     "metadata": {},
     "output_type": "execute_result"
    }
   ],
   "source": [
    "domains = df[np.invert(is_ip)]\n",
    "domains['victim'].value_counts().head(3)"
   ]
  },
  {
   "cell_type": "markdown",
   "id": "c8f3669b",
   "metadata": {},
   "source": [
    "## 5. The longest attack duration?"
   ]
  },
  {
   "cell_type": "code",
   "execution_count": 7,
   "id": "5a7fa312",
   "metadata": {},
   "outputs": [
    {
     "data": {
      "text/plain": [
       "500000"
      ]
     },
     "execution_count": 7,
     "metadata": {},
     "output_type": "execute_result"
    }
   ],
   "source": [
    "max(df['duration'])"
   ]
  },
  {
   "cell_type": "markdown",
   "id": "1547f655",
   "metadata": {},
   "source": [
    "## 6. Top 3 attack type?"
   ]
  },
  {
   "cell_type": "code",
   "execution_count": 8,
   "id": "fdcd3ee4",
   "metadata": {},
   "outputs": [
    {
     "data": {
      "text/plain": [
       "ESSYN    19618\n",
       "UDP      10505\n",
       "RUDY      5808\n",
       "Name: type, dtype: int64"
      ]
     },
     "execution_count": 8,
     "metadata": {},
     "output_type": "execute_result"
    }
   ],
   "source": [
    "df['type'].value_counts().head(3)"
   ]
  },
  {
   "cell_type": "markdown",
   "id": "7aa2560d",
   "metadata": {},
   "source": [
    "## 7. Which owner id performed most of the attacks?"
   ]
  },
  {
   "cell_type": "code",
   "execution_count": 9,
   "id": "7ecc4b61",
   "metadata": {},
   "outputs": [
    {
     "data": {
      "text/plain": [
       "272    2307\n",
       "Name: client_attacker, dtype: int64"
      ]
     },
     "execution_count": 9,
     "metadata": {},
     "output_type": "execute_result"
    }
   ],
   "source": [
    "df['client_attacker'].value_counts().head(1)"
   ]
  },
  {
   "cell_type": "markdown",
   "id": "fc0873e3",
   "metadata": {},
   "source": [
    "## 8. How many attacks 'krebsonsecurity.com' suffered?"
   ]
  },
  {
   "cell_type": "code",
   "execution_count": 10,
   "id": "0692922e",
   "metadata": {},
   "outputs": [
    {
     "data": {
      "text/plain": [
       "15"
      ]
     },
     "execution_count": 10,
     "metadata": {},
     "output_type": "execute_result"
    }
   ],
   "source": [
    "len(df[df['victim'].str.contains('krebsonsecurity.com')])"
   ]
  },
  {
   "cell_type": "markdown",
   "id": "062c07a9",
   "metadata": {},
   "source": [
    "## 9. Add two statistics that I didn't list above.\n",
    "\n",
    "Average amount of servers used per attack:"
   ]
  },
  {
   "cell_type": "code",
   "execution_count": 11,
   "id": "44611365",
   "metadata": {},
   "outputs": [
    {
     "data": {
      "text/plain": [
       "2.725155311340291"
      ]
     },
     "execution_count": 11,
     "metadata": {},
     "output_type": "execute_result"
    }
   ],
   "source": [
    "df['server_used_in_th_attack'].str.split('|').apply(lambda x: len(x) if isinstance(x, list) else 0).mean()"
   ]
  },
  {
   "cell_type": "markdown",
   "id": "84e2b199",
   "metadata": {},
   "source": [
    "Top 3 most attacked ports:"
   ]
  },
  {
   "cell_type": "code",
   "execution_count": 12,
   "id": "8f698f04",
   "metadata": {},
   "outputs": [
    {
     "data": {
      "text/plain": [
       "80      37571\n",
       "6005     2058\n",
       "6000      630\n",
       "Name: port_service`_type, dtype: int64"
      ]
     },
     "execution_count": 12,
     "metadata": {},
     "output_type": "execute_result"
    }
   ],
   "source": [
    "df['port_service`_type'].value_counts().head(3)"
   ]
  },
  {
   "cell_type": "markdown",
   "id": "fbf5b4fe",
   "metadata": {},
   "source": [
    "# 3. Conclusion\n",
    "We have learnt what the database of a booter looks like and we have gotten a better idea about how these Denial of Service attacks are performed in practice. At the start, we mentioned that our goal was to perform further analysis on this dataset with two characteristics in particular.\n",
    "\n",
    "## How many attacks have been performed?\n",
    "\n",
    "This was answered in section 2.1: 48773\n",
    "\n",
    "## How many unique customers had this booter?\n",
    "This was answered in section 2.2: 277"
   ]
  }
 ],
 "metadata": {
  "kernelspec": {
   "display_name": "Python 3 (ipykernel)",
   "language": "python",
   "name": "python3"
  },
  "language_info": {
   "codemirror_mode": {
    "name": "ipython",
    "version": 3
   },
   "file_extension": ".py",
   "mimetype": "text/x-python",
   "name": "python",
   "nbconvert_exporter": "python",
   "pygments_lexer": "ipython3",
   "version": "3.9.5"
  }
 },
 "nbformat": 4,
 "nbformat_minor": 5
}
